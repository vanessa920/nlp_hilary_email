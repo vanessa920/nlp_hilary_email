{
 "cells": [
  {
   "cell_type": "code",
   "execution_count": 41,
   "metadata": {},
   "outputs": [],
   "source": [
    "# Suppress warnings \n",
    "import warnings\n",
    "warnings.filterwarnings('ignore')"
   ]
  },
  {
   "cell_type": "code",
   "execution_count": 1,
   "metadata": {},
   "outputs": [],
   "source": [
    "import pandas as pd\n",
    "import numpy as np"
   ]
  },
  {
   "cell_type": "code",
   "execution_count": 102,
   "metadata": {},
   "outputs": [],
   "source": [
    "df_full = pd.read_csv(\"data/Emails.csv\")"
   ]
  },
  {
   "cell_type": "code",
   "execution_count": 98,
   "metadata": {},
   "outputs": [
    {
     "data": {
      "text/plain": [
       "(7945, 22)"
      ]
     },
     "execution_count": 98,
     "metadata": {},
     "output_type": "execute_result"
    }
   ],
   "source": [
    "df_full.shape"
   ]
  },
  {
   "cell_type": "code",
   "execution_count": 6,
   "metadata": {},
   "outputs": [
    {
     "data": {
      "text/plain": [
       "abedinh@state.gov       336\n",
       "millscd@state.gov       311\n",
       "sullivanjj@state.gov    297\n",
       "JilotyLC@state.gov      230\n",
       "ValmoroLJ@state.gov     137\n",
       "                       ... \n",
       "abendinh@state.gov        1\n",
       "wburns                    1\n",
       "NidesTR@state.gov         1\n",
       "mhcaleja@state.gov        1\n",
       "michele.flournoy          1\n",
       "Name: MetadataTo, Length: 131, dtype: int64"
      ]
     },
     "execution_count": 6,
     "metadata": {},
     "output_type": "execute_result"
    }
   ],
   "source": [
    "df_full[df_full['SenderPersonId']==80].MetadataTo.value_counts() # Emails that sent by Hilary "
   ]
  },
  {
   "cell_type": "code",
   "execution_count": 99,
   "metadata": {},
   "outputs": [],
   "source": [
    "h_sent = df_full[df_full['SenderPersonId']==80] #Hilary's person ID is 80"
   ]
  },
  {
   "cell_type": "code",
   "execution_count": 100,
   "metadata": {},
   "outputs": [
    {
     "data": {
      "text/plain": [
       "(1993, 22)"
      ]
     },
     "execution_count": 100,
     "metadata": {},
     "output_type": "execute_result"
    }
   ],
   "source": [
    "h_sent.shape # She sent 1993 emails"
   ]
  },
  {
   "cell_type": "code",
   "execution_count": 36,
   "metadata": {},
   "outputs": [],
   "source": [
    "mask = h_sent.MetadataTo.value_counts()"
   ]
  },
  {
   "cell_type": "code",
   "execution_count": 44,
   "metadata": {},
   "outputs": [
    {
     "data": {
      "text/plain": [
       "abedinh@state.gov         336\n",
       "millscd@state.gov         311\n",
       "sullivanjj@state.gov      297\n",
       "JilotyLC@state.gov        230\n",
       "ValmoroLJ@state.gov       137\n",
       "preines                    51\n",
       "sbwhoeop                   48\n",
       "cheryl.mills               37\n",
       "Abedin, Huma               34\n",
       "hanleymr@state.gov         33\n",
       "vermarr@state.gov          30\n",
       "slaughtera@state.gov       29\n",
       "Russorv@state.gov          26\n",
       "muscatinel@state.gov       18\n",
       "balderstonkm@state.gov     16\n",
       "AbedinH@state.gov          14\n",
       "reinesp@state.gov          13\n",
       "verveerms@state.gov        10\n",
       "pverveer                   10\n",
       "mchaleja@state.gov         10\n",
       "crowleypj@state.gov        10\n",
       "stalbott                   10\n",
       "CampbellKM@state.gov        9\n",
       "Jake.Sullivan               8\n",
       "SteinbergJB@state.gov       8\n",
       "lewjj@state.gov             7\n",
       "TillemannTS@state.gov       7\n",
       "jake.sullivan               6\n",
       "shapiroa@state.gov          6\n",
       "toivnf@state.gov            6\n",
       "Name: MetadataTo, dtype: int64"
      ]
     },
     "execution_count": 44,
     "metadata": {},
     "output_type": "execute_result"
    }
   ],
   "source": [
    "mask[0:30]"
   ]
  },
  {
   "cell_type": "code",
   "execution_count": 43,
   "metadata": {},
   "outputs": [
    {
     "data": {
      "text/plain": [
       "384"
      ]
     },
     "execution_count": 43,
     "metadata": {},
     "output_type": "execute_result"
    }
   ],
   "source": [
    "336+34+14 # The total number of emails she sent to her assistant Huma Abedin"
   ]
  },
  {
   "cell_type": "code",
   "execution_count": 5,
   "metadata": {},
   "outputs": [],
   "source": [
    "import matplotlib.pyplot as plt\n",
    "import seaborn as sns"
   ]
  },
  {
   "cell_type": "code",
   "execution_count": 52,
   "metadata": {},
   "outputs": [
    {
     "data": {
      "image/png": "[encoded data removed]",
      "text/plain": [
       "<Figure size 432x288 with 1 Axes>"
      ]
     },
     "metadata": {
      "needs_background": "light"
     },
     "output_type": "display_data"
    }
   ],
   "source": [
    "plt.hist(mask[:-120]); # She sent only 1 email to about 120 people; she sent up to 50 emails or so to 6 people; She sent 70% of emails to just 5 people."
   ]
  },
  {
   "cell_type": "code",
   "execution_count": 54,
   "metadata": {},
   "outputs": [
    {
     "data": {
      "text/plain": [
       "0.7024586051179127"
      ]
     },
     "execution_count": 54,
     "metadata": {},
     "output_type": "execute_result"
    }
   ],
   "source": [
    "1400/1993"
   ]
  },
  {
   "cell_type": "code",
   "execution_count": 6,
   "metadata": {},
   "outputs": [],
   "source": [
    "alias = pd.read_csv(\"data/Aliases.csv\")\n",
    "persons=pd.read_csv(\"data/Persons.csv\")\n",
    "receivers = pd.read_csv(\"data/EmailReceivers.csv\")"
   ]
  },
  {
   "cell_type": "code",
   "execution_count": 79,
   "metadata": {},
   "outputs": [
    {
     "data": {
      "text/plain": [
       "Index(['Id', 'Name'], dtype='object')"
      ]
     },
     "execution_count": 79,
     "metadata": {},
     "output_type": "execute_result"
    }
   ],
   "source": [
    "persons.columns"
   ]
  },
  {
   "cell_type": "code",
   "execution_count": 80,
   "metadata": {},
   "outputs": [
    {
     "data": {
      "text/plain": [
       "Index(['Id', 'Alias', 'PersonId'], dtype='object')"
      ]
     },
     "execution_count": 80,
     "metadata": {},
     "output_type": "execute_result"
    }
   ],
   "source": [
    "alias.columns"
   ]
  },
  {
   "cell_type": "code",
   "execution_count": 114,
   "metadata": {},
   "outputs": [
    {
     "data": {
      "text/html": [
       "<div>\n",
       "<style scoped>\n",
       "    .dataframe tbody tr th:only-of-type {\n",
       "        vertical-align: middle;\n",
       "    }\n",
       "\n",
       "    .dataframe tbody tr th {\n",
       "        vertical-align: top;\n",
       "    }\n",
       "\n",
       "    .dataframe thead th {\n",
       "        text-align: right;\n",
       "    }\n",
       "</style>\n",
       "<table border=\"1\" class=\"dataframe\">\n",
       "  <thead>\n",
       "    <tr style=\"text-align: right;\">\n",
       "      <th></th>\n",
       "      <th>Id</th>\n",
       "      <th>Alias</th>\n",
       "      <th>PersonId</th>\n",
       "    </tr>\n",
       "  </thead>\n",
       "  <tbody>\n",
       "    <tr>\n",
       "      <th>151</th>\n",
       "      <td>152</td>\n",
       "      <td>abedinh@state.gov</td>\n",
       "      <td>81</td>\n",
       "    </tr>\n",
       "    <tr>\n",
       "      <th>66</th>\n",
       "      <td>67</td>\n",
       "      <td>millscd@state.gov</td>\n",
       "      <td>32</td>\n",
       "    </tr>\n",
       "    <tr>\n",
       "      <th>178</th>\n",
       "      <td>179</td>\n",
       "      <td>sullivanjj@state.gov</td>\n",
       "      <td>87</td>\n",
       "    </tr>\n",
       "    <tr>\n",
       "      <th>232</th>\n",
       "      <td>233</td>\n",
       "      <td>jilotylc@state.gov</td>\n",
       "      <td>116</td>\n",
       "    </tr>\n",
       "    <tr>\n",
       "      <th>257</th>\n",
       "      <td>258</td>\n",
       "      <td>valmorolj@state.gov</td>\n",
       "      <td>124</td>\n",
       "    </tr>\n",
       "  </tbody>\n",
       "</table>\n",
       "</div>"
      ],
      "text/plain": [
       "      Id                 Alias  PersonId\n",
       "151  152     abedinh@state.gov        81\n",
       "66    67     millscd@state.gov        32\n",
       "178  179  sullivanjj@state.gov        87\n",
       "232  233    jilotylc@state.gov       116\n",
       "257  258   valmorolj@state.gov       124"
      ]
     },
     "execution_count": 114,
     "metadata": {},
     "output_type": "execute_result"
    }
   ],
   "source": [
    "pd.concat([alias[alias[\"Alias\"]==\"abedinh@state.gov\"],\n",
    "        alias[alias[\"Alias\"]==\"millscd@state.gov\"], alias[alias[\"Alias\"]==\"sullivanjj@state.gov\"], \n",
    "        alias[alias[\"Alias\"]==\"jilotylc@state.gov\"], alias[alias[\"Alias\"]==\"valmorolj@state.gov\"]])"
   ]
  },
  {
   "cell_type": "code",
   "execution_count": 106,
   "metadata": {},
   "outputs": [
    {
     "data": {
      "text/html": [
       "<div>\n",
       "<style scoped>\n",
       "    .dataframe tbody tr th:only-of-type {\n",
       "        vertical-align: middle;\n",
       "    }\n",
       "\n",
       "    .dataframe tbody tr th {\n",
       "        vertical-align: top;\n",
       "    }\n",
       "\n",
       "    .dataframe thead th {\n",
       "        text-align: right;\n",
       "    }\n",
       "</style>\n",
       "<table border=\"1\" class=\"dataframe\">\n",
       "  <thead>\n",
       "    <tr style=\"text-align: right;\">\n",
       "      <th></th>\n",
       "      <th>Id</th>\n",
       "      <th>Name</th>\n",
       "    </tr>\n",
       "  </thead>\n",
       "  <tbody>\n",
       "    <tr>\n",
       "      <th>80</th>\n",
       "      <td>81</td>\n",
       "      <td>Huma Abedin</td>\n",
       "    </tr>\n",
       "  </tbody>\n",
       "</table>\n",
       "</div>"
      ],
      "text/plain": [
       "    Id         Name\n",
       "80  81  Huma Abedin"
      ]
     },
     "execution_count": 106,
     "metadata": {},
     "output_type": "execute_result"
    }
   ],
   "source": [
    "persons[persons[\"Id\"]==81]"
   ]
  },
  {
   "cell_type": "code",
   "execution_count": 123,
   "metadata": {},
   "outputs": [
    {
     "data": {
      "text/html": [
       "<div>\n",
       "<style scoped>\n",
       "    .dataframe tbody tr th:only-of-type {\n",
       "        vertical-align: middle;\n",
       "    }\n",
       "\n",
       "    .dataframe tbody tr th {\n",
       "        vertical-align: top;\n",
       "    }\n",
       "\n",
       "    .dataframe thead th {\n",
       "        text-align: right;\n",
       "    }\n",
       "</style>\n",
       "<table border=\"1\" class=\"dataframe\">\n",
       "  <thead>\n",
       "    <tr style=\"text-align: right;\">\n",
       "      <th></th>\n",
       "      <th>Id</th>\n",
       "      <th>Name</th>\n",
       "    </tr>\n",
       "  </thead>\n",
       "  <tbody>\n",
       "    <tr>\n",
       "      <th>80</th>\n",
       "      <td>81</td>\n",
       "      <td>Huma Abedin</td>\n",
       "    </tr>\n",
       "    <tr>\n",
       "      <th>31</th>\n",
       "      <td>32</td>\n",
       "      <td>Cheryl Mills</td>\n",
       "    </tr>\n",
       "    <tr>\n",
       "      <th>86</th>\n",
       "      <td>87</td>\n",
       "      <td>Jake Sullivan</td>\n",
       "    </tr>\n",
       "    <tr>\n",
       "      <th>115</th>\n",
       "      <td>116</td>\n",
       "      <td>Lauren Jiloty</td>\n",
       "    </tr>\n",
       "    <tr>\n",
       "      <th>123</th>\n",
       "      <td>124</td>\n",
       "      <td>Lona Valmoro</td>\n",
       "    </tr>\n",
       "  </tbody>\n",
       "</table>\n",
       "</div>"
      ],
      "text/plain": [
       "      Id           Name\n",
       "80    81    Huma Abedin\n",
       "31    32   Cheryl Mills\n",
       "86    87  Jake Sullivan\n",
       "115  116  Lauren Jiloty\n",
       "123  124   Lona Valmoro"
      ]
     },
     "execution_count": 123,
     "metadata": {},
     "output_type": "execute_result"
    }
   ],
   "source": [
    "\n",
    "pd.concat([persons[persons[\"Id\"]==81], persons[persons[\"Id\"]==32], persons[persons[\"Id\"]==87], persons[persons[\"Id\"]==116], persons[persons[\"Id\"]==124]]) # Top 5 close people"
   ]
  },
  {
   "cell_type": "code",
   "execution_count": 254,
   "metadata": {},
   "outputs": [
    {
     "data": {
      "text/html": [
       "<div>\n",
       "<style scoped>\n",
       "    .dataframe tbody tr th:only-of-type {\n",
       "        vertical-align: middle;\n",
       "    }\n",
       "\n",
       "    .dataframe tbody tr th {\n",
       "        vertical-align: top;\n",
       "    }\n",
       "\n",
       "    .dataframe thead th {\n",
       "        text-align: right;\n",
       "    }\n",
       "</style>\n",
       "<table border=\"1\" class=\"dataframe\">\n",
       "  <thead>\n",
       "    <tr style=\"text-align: right;\">\n",
       "      <th></th>\n",
       "      <th>Id</th>\n",
       "      <th>DocNumber</th>\n",
       "      <th>MetadataSubject</th>\n",
       "      <th>MetadataTo</th>\n",
       "      <th>MetadataFrom</th>\n",
       "      <th>SenderPersonId</th>\n",
       "      <th>MetadataDateSent</th>\n",
       "      <th>MetadataDateReleased</th>\n",
       "      <th>MetadataPdfLink</th>\n",
       "      <th>MetadataCaseNumber</th>\n",
       "      <th>...</th>\n",
       "      <th>ExtractedTo</th>\n",
       "      <th>ExtractedFrom</th>\n",
       "      <th>ExtractedCc</th>\n",
       "      <th>ExtractedDateSent</th>\n",
       "      <th>ExtractedCaseNumber</th>\n",
       "      <th>ExtractedDocNumber</th>\n",
       "      <th>ExtractedDateReleased</th>\n",
       "      <th>ExtractedReleaseInPartOrFull</th>\n",
       "      <th>ExtractedBodyText</th>\n",
       "      <th>RawText</th>\n",
       "    </tr>\n",
       "  </thead>\n",
       "  <tbody>\n",
       "    <tr>\n",
       "      <th>4</th>\n",
       "      <td>5</td>\n",
       "      <td>C05739554</td>\n",
       "      <td>H: LATEST: HOW SYRIA IS AIDING QADDAFI AND MOR...</td>\n",
       "      <td>Abedin, Huma</td>\n",
       "      <td>H</td>\n",
       "      <td>80.0</td>\n",
       "      <td>2011-03-11T05:00:00+00:00</td>\n",
       "      <td>2015-05-22T04:00:00+00:00</td>\n",
       "      <td>DOCUMENTS/HRC_Email_1_296/HRCH1/DOC_0C05739554...</td>\n",
       "      <td>F-2015-04841</td>\n",
       "      <td>...</td>\n",
       "      <td>NaN</td>\n",
       "      <td>NaN</td>\n",
       "      <td>NaN</td>\n",
       "      <td>NaN</td>\n",
       "      <td>F-2015-04841</td>\n",
       "      <td>C05739554</td>\n",
       "      <td>05/13/2015</td>\n",
       "      <td>RELEASE IN PART</td>\n",
       "      <td>H &lt;hrod17@clintonemail.com&gt;\\nFriday, March 11,...</td>\n",
       "      <td>B6\\nUNCLASSIFIED\\nU.S. Department of State\\nCa...</td>\n",
       "    </tr>\n",
       "    <tr>\n",
       "      <th>5</th>\n",
       "      <td>6</td>\n",
       "      <td>C05739559</td>\n",
       "      <td>MEET THE RIGHT-WING EXTREMIST BEHIND ANTI-MUSL...</td>\n",
       "      <td>Russorv@state.gov</td>\n",
       "      <td>H</td>\n",
       "      <td>80.0</td>\n",
       "      <td>2012-09-12T04:00:00+00:00</td>\n",
       "      <td>2015-05-22T04:00:00+00:00</td>\n",
       "      <td>DOCUMENTS/HRC_Email_1_296/HRCH2/DOC_0C05739559...</td>\n",
       "      <td>F-2015-04841</td>\n",
       "      <td>...</td>\n",
       "      <td>NaN</td>\n",
       "      <td>NaN</td>\n",
       "      <td>NaN</td>\n",
       "      <td>Wednesday, September 12, 2012 01:00 PM</td>\n",
       "      <td>F-2015-04841</td>\n",
       "      <td>C05739559</td>\n",
       "      <td>05/13/2015</td>\n",
       "      <td>RELEASE IN PART</td>\n",
       "      <td>Pis print.\\n-•-...-^\\nH &lt; hrod17@clintonernail...</td>\n",
       "      <td>B6\\nUNCLASSIFIED\\nU.S. Department of State\\nCa...</td>\n",
       "    </tr>\n",
       "    <tr>\n",
       "      <th>7</th>\n",
       "      <td>8</td>\n",
       "      <td>C05739561</td>\n",
       "      <td>H: LATEST: HOW SYRIA IS AIDING QADDAFI AND MOR...</td>\n",
       "      <td>Abedin, Huma</td>\n",
       "      <td>H</td>\n",
       "      <td>80.0</td>\n",
       "      <td>2011-03-11T05:00:00+00:00</td>\n",
       "      <td>2015-05-22T04:00:00+00:00</td>\n",
       "      <td>DOCUMENTS/HRC_Email_1_296/HRCH1/DOC_0C05739561...</td>\n",
       "      <td>F-2015-04841</td>\n",
       "      <td>...</td>\n",
       "      <td>NaN</td>\n",
       "      <td>NaN</td>\n",
       "      <td>NaN</td>\n",
       "      <td>NaN</td>\n",
       "      <td>F-2015-04841</td>\n",
       "      <td>C05739561</td>\n",
       "      <td>05/13/2015</td>\n",
       "      <td>RELEASE IN PART</td>\n",
       "      <td>H &lt;hrod17@clintonemail.corn&gt;\\nFriday, March 11...</td>\n",
       "      <td>B6\\nUNCLASSIFIED\\nU.S. Department of State\\nCa...</td>\n",
       "    </tr>\n",
       "    <tr>\n",
       "      <th>20</th>\n",
       "      <td>21</td>\n",
       "      <td>C05739578</td>\n",
       "      <td>MORE ON LIBYA</td>\n",
       "      <td>sullivanjj@state.gov</td>\n",
       "      <td>H</td>\n",
       "      <td>80.0</td>\n",
       "      <td>2012-09-12T04:00:00+00:00</td>\n",
       "      <td>2015-05-22T04:00:00+00:00</td>\n",
       "      <td>DOCUMENTS/HRC_Email_1_296/HRCH2/DOC_0C05739578...</td>\n",
       "      <td>F-2015-04841</td>\n",
       "      <td>...</td>\n",
       "      <td>NaN</td>\n",
       "      <td>NaN</td>\n",
       "      <td>NaN</td>\n",
       "      <td>NaN</td>\n",
       "      <td>F-2015-04841</td>\n",
       "      <td>C05739578</td>\n",
       "      <td>05/13/2015</td>\n",
       "      <td>RELEASE IN PART</td>\n",
       "      <td>H &lt;hrod17@clintonernaii.com›\\nWednesday, Septe...</td>\n",
       "      <td>UNCLASSIFIED\\nU.S. Department of State\\nCase N...</td>\n",
       "    </tr>\n",
       "    <tr>\n",
       "      <th>21</th>\n",
       "      <td>22</td>\n",
       "      <td>C05739579</td>\n",
       "      <td>MORE ON LIBYA</td>\n",
       "      <td>Russorv@state.gov</td>\n",
       "      <td>H</td>\n",
       "      <td>80.0</td>\n",
       "      <td>2012-09-12T04:00:00+00:00</td>\n",
       "      <td>2015-05-22T04:00:00+00:00</td>\n",
       "      <td>DOCUMENTS/HRC_Email_1_296/HRCH2/DOC_0C05739579...</td>\n",
       "      <td>F-2015-04841</td>\n",
       "      <td>...</td>\n",
       "      <td>NaN</td>\n",
       "      <td>NaN</td>\n",
       "      <td>NaN</td>\n",
       "      <td>NaN</td>\n",
       "      <td>F-2015-04841</td>\n",
       "      <td>C05739579</td>\n",
       "      <td>05/13/2015</td>\n",
       "      <td>RELEASE IN PART</td>\n",
       "      <td>Pis print.\\nH &lt; hrod17@clintoriernail.corn&gt;\\nW...</td>\n",
       "      <td>UNCLASSIFIED\\nU.S. Department of State\\nCase N...</td>\n",
       "    </tr>\n",
       "    <tr>\n",
       "      <th>...</th>\n",
       "      <td>...</td>\n",
       "      <td>...</td>\n",
       "      <td>...</td>\n",
       "      <td>...</td>\n",
       "      <td>...</td>\n",
       "      <td>...</td>\n",
       "      <td>...</td>\n",
       "      <td>...</td>\n",
       "      <td>...</td>\n",
       "      <td>...</td>\n",
       "      <td>...</td>\n",
       "      <td>...</td>\n",
       "      <td>...</td>\n",
       "      <td>...</td>\n",
       "      <td>...</td>\n",
       "      <td>...</td>\n",
       "      <td>...</td>\n",
       "      <td>...</td>\n",
       "      <td>...</td>\n",
       "      <td>...</td>\n",
       "      <td>...</td>\n",
       "    </tr>\n",
       "    <tr>\n",
       "      <th>7825</th>\n",
       "      <td>7826</td>\n",
       "      <td>C05777256</td>\n",
       "      <td>NaN</td>\n",
       "      <td>Abedin, Huma</td>\n",
       "      <td>H</td>\n",
       "      <td>80.0</td>\n",
       "      <td>2010-06-29T04:00:00+00:00</td>\n",
       "      <td>2015-08-31T04:00:00+00:00</td>\n",
       "      <td>DOCUMENTS/HRCEmail_August_Web/IPS-0128/DOC_0C0...</td>\n",
       "      <td>F-2014-20439</td>\n",
       "      <td>...</td>\n",
       "      <td>Huma Abedin; 'hanleymr@state.gov'</td>\n",
       "      <td>H &lt;hrod17@clintonemail.com&gt;</td>\n",
       "      <td>Huma Abedin</td>\n",
       "      <td>Tuesday, June 29, 2010 7:46 AM</td>\n",
       "      <td>F-2014-20439</td>\n",
       "      <td>C05777256</td>\n",
       "      <td>08/31/2015</td>\n",
       "      <td>RELEASE IN PART</td>\n",
       "      <td>Could we move to 8:30?</td>\n",
       "      <td>UNCLASSIFIED U.S. Department of State Case No....</td>\n",
       "    </tr>\n",
       "    <tr>\n",
       "      <th>7826</th>\n",
       "      <td>7827</td>\n",
       "      <td>C05777261</td>\n",
       "      <td>RCH</td>\n",
       "      <td>sullivanjj@state.gov</td>\n",
       "      <td>H</td>\n",
       "      <td>80.0</td>\n",
       "      <td>2010-06-29T04:00:00+00:00</td>\n",
       "      <td>2015-08-31T04:00:00+00:00</td>\n",
       "      <td>DOCUMENTS/HRCEmail_August_Web/IPS-0128/DOC_0C0...</td>\n",
       "      <td>F-2014-20439</td>\n",
       "      <td>...</td>\n",
       "      <td>'sullivanjj@state.gov.</td>\n",
       "      <td>H &lt;hrod17@clintonemail.com&gt;</td>\n",
       "      <td>NaN</td>\n",
       "      <td>Tuesday, June 29, 2010 7:18 PM</td>\n",
       "      <td>F-2014-20439</td>\n",
       "      <td>C05777261</td>\n",
       "      <td>08/31/2015</td>\n",
       "      <td>RELEASE IN FULL</td>\n",
       "      <td>Did you and/or PIR talk to him today? Do I nee...</td>\n",
       "      <td>UNCLASSIFIED U.S. Department of State Case No....</td>\n",
       "    </tr>\n",
       "    <tr>\n",
       "      <th>7827</th>\n",
       "      <td>7828</td>\n",
       "      <td>C05777266</td>\n",
       "      <td>GINZBURG LETTER</td>\n",
       "      <td>JilotyLC@state.gov</td>\n",
       "      <td>H</td>\n",
       "      <td>80.0</td>\n",
       "      <td>2010-06-29T04:00:00+00:00</td>\n",
       "      <td>2015-08-31T04:00:00+00:00</td>\n",
       "      <td>DOCUMENTS/HRCEmail_August_Web/IPS-0128/DOC_0C0...</td>\n",
       "      <td>F-2014-20439</td>\n",
       "      <td>...</td>\n",
       "      <td>'JilotyLC@state.gov'; 'Russorv@state.gov'</td>\n",
       "      <td>H &lt;hrod17@clintonemail.com&gt;</td>\n",
       "      <td>NaN</td>\n",
       "      <td>Tuesday, June 29, 2010 7:21 PM</td>\n",
       "      <td>F-2014-20439</td>\n",
       "      <td>C05777266</td>\n",
       "      <td>08/31/2015</td>\n",
       "      <td>RELEASE IN FULL</td>\n",
       "      <td>Pls prepare condolence letter to Justice RBG f...</td>\n",
       "      <td>UNCLASSIFIED U.S. Department of State Case No....</td>\n",
       "    </tr>\n",
       "    <tr>\n",
       "      <th>7828</th>\n",
       "      <td>7829</td>\n",
       "      <td>C05777269</td>\n",
       "      <td>CONFIDENTIAL</td>\n",
       "      <td>hanleymr@state.gov</td>\n",
       "      <td>H</td>\n",
       "      <td>80.0</td>\n",
       "      <td>2010-06-30T04:00:00+00:00</td>\n",
       "      <td>2015-08-31T04:00:00+00:00</td>\n",
       "      <td>DOCUMENTS/HRCEmail_August_Web/IPS-0128/DOC_0C0...</td>\n",
       "      <td>F-2014-20439</td>\n",
       "      <td>...</td>\n",
       "      <td>NaN</td>\n",
       "      <td>NaN</td>\n",
       "      <td>dband</td>\n",
       "      <td>NaN</td>\n",
       "      <td>F-2014-20439</td>\n",
       "      <td>C05777269</td>\n",
       "      <td>08/31/2015</td>\n",
       "      <td>RELEASE IN PART</td>\n",
       "      <td>H &lt;hrod17@clintonemail.com&gt;\\nWednesday, June 3...</td>\n",
       "      <td>UNCLASSIFIED U.S. Department of State Case No....</td>\n",
       "    </tr>\n",
       "    <tr>\n",
       "      <th>7895</th>\n",
       "      <td>7896</td>\n",
       "      <td>C05778286</td>\n",
       "      <td>QDDR COVER LETTER FROM S</td>\n",
       "      <td>Daniel</td>\n",
       "      <td>Clinton, Hillary Rodham</td>\n",
       "      <td>80.0</td>\n",
       "      <td>2009-12-12T05:00:00+00:00</td>\n",
       "      <td>2015-08-31T04:00:00+00:00</td>\n",
       "      <td>DOCUMENTS/HRCEmail_August_Web/IPS-0112/DOC_0C0...</td>\n",
       "      <td>F-2014-20439</td>\n",
       "      <td>...</td>\n",
       "      <td>NaN</td>\n",
       "      <td>NaN</td>\n",
       "      <td>NaN</td>\n",
       "      <td>NaN</td>\n",
       "      <td>F-2014-20439</td>\n",
       "      <td>C05778286</td>\n",
       "      <td>08/31/2015</td>\n",
       "      <td>RELEASE IN PART</td>\n",
       "      <td>NaN</td>\n",
       "      <td>UNCLASSIFIED U.S. Department of State Case No....</td>\n",
       "    </tr>\n",
       "  </tbody>\n",
       "</table>\n",
       "<p>1993 rows × 22 columns</p>\n",
       "</div>"
      ],
      "text/plain": [
       "        Id  DocNumber                                    MetadataSubject  \\\n",
       "4        5  C05739554  H: LATEST: HOW SYRIA IS AIDING QADDAFI AND MOR...   \n",
       "5        6  C05739559  MEET THE RIGHT-WING EXTREMIST BEHIND ANTI-MUSL...   \n",
       "7        8  C05739561  H: LATEST: HOW SYRIA IS AIDING QADDAFI AND MOR...   \n",
       "20      21  C05739578                                      MORE ON LIBYA   \n",
       "21      22  C05739579                                      MORE ON LIBYA   \n",
       "...    ...        ...                                                ...   \n",
       "7825  7826  C05777256                                                NaN   \n",
       "7826  7827  C05777261                                                RCH   \n",
       "7827  7828  C05777266                                    GINZBURG LETTER   \n",
       "7828  7829  C05777269                                       CONFIDENTIAL   \n",
       "7895  7896  C05778286                           QDDR COVER LETTER FROM S   \n",
       "\n",
       "                MetadataTo             MetadataFrom  SenderPersonId  \\\n",
       "4             Abedin, Huma                        H            80.0   \n",
       "5        Russorv@state.gov                        H            80.0   \n",
       "7             Abedin, Huma                        H            80.0   \n",
       "20    sullivanjj@state.gov                        H            80.0   \n",
       "21       Russorv@state.gov                        H            80.0   \n",
       "...                    ...                      ...             ...   \n",
       "7825          Abedin, Huma                        H            80.0   \n",
       "7826  sullivanjj@state.gov                        H            80.0   \n",
       "7827    JilotyLC@state.gov                        H            80.0   \n",
       "7828    hanleymr@state.gov                        H            80.0   \n",
       "7895                Daniel  Clinton, Hillary Rodham            80.0   \n",
       "\n",
       "               MetadataDateSent       MetadataDateReleased  \\\n",
       "4     2011-03-11T05:00:00+00:00  2015-05-22T04:00:00+00:00   \n",
       "5     2012-09-12T04:00:00+00:00  2015-05-22T04:00:00+00:00   \n",
       "7     2011-03-11T05:00:00+00:00  2015-05-22T04:00:00+00:00   \n",
       "20    2012-09-12T04:00:00+00:00  2015-05-22T04:00:00+00:00   \n",
       "21    2012-09-12T04:00:00+00:00  2015-05-22T04:00:00+00:00   \n",
       "...                         ...                        ...   \n",
       "7825  2010-06-29T04:00:00+00:00  2015-08-31T04:00:00+00:00   \n",
       "7826  2010-06-29T04:00:00+00:00  2015-08-31T04:00:00+00:00   \n",
       "7827  2010-06-29T04:00:00+00:00  2015-08-31T04:00:00+00:00   \n",
       "7828  2010-06-30T04:00:00+00:00  2015-08-31T04:00:00+00:00   \n",
       "7895  2009-12-12T05:00:00+00:00  2015-08-31T04:00:00+00:00   \n",
       "\n",
       "                                        MetadataPdfLink MetadataCaseNumber  \\\n",
       "4     DOCUMENTS/HRC_Email_1_296/HRCH1/DOC_0C05739554...       F-2015-04841   \n",
       "5     DOCUMENTS/HRC_Email_1_296/HRCH2/DOC_0C05739559...       F-2015-04841   \n",
       "7     DOCUMENTS/HRC_Email_1_296/HRCH1/DOC_0C05739561...       F-2015-04841   \n",
       "20    DOCUMENTS/HRC_Email_1_296/HRCH2/DOC_0C05739578...       F-2015-04841   \n",
       "21    DOCUMENTS/HRC_Email_1_296/HRCH2/DOC_0C05739579...       F-2015-04841   \n",
       "...                                                 ...                ...   \n",
       "7825  DOCUMENTS/HRCEmail_August_Web/IPS-0128/DOC_0C0...       F-2014-20439   \n",
       "7826  DOCUMENTS/HRCEmail_August_Web/IPS-0128/DOC_0C0...       F-2014-20439   \n",
       "7827  DOCUMENTS/HRCEmail_August_Web/IPS-0128/DOC_0C0...       F-2014-20439   \n",
       "7828  DOCUMENTS/HRCEmail_August_Web/IPS-0128/DOC_0C0...       F-2014-20439   \n",
       "7895  DOCUMENTS/HRCEmail_August_Web/IPS-0112/DOC_0C0...       F-2014-20439   \n",
       "\n",
       "      ...                                ExtractedTo  \\\n",
       "4     ...                                        NaN   \n",
       "5     ...                                        NaN   \n",
       "7     ...                                        NaN   \n",
       "20    ...                                        NaN   \n",
       "21    ...                                        NaN   \n",
       "...   ...                                        ...   \n",
       "7825  ...          Huma Abedin; 'hanleymr@state.gov'   \n",
       "7826  ...                     'sullivanjj@state.gov.   \n",
       "7827  ...  'JilotyLC@state.gov'; 'Russorv@state.gov'   \n",
       "7828  ...                                        NaN   \n",
       "7895  ...                                        NaN   \n",
       "\n",
       "                    ExtractedFrom  ExtractedCc  \\\n",
       "4                             NaN          NaN   \n",
       "5                             NaN          NaN   \n",
       "7                             NaN          NaN   \n",
       "20                            NaN          NaN   \n",
       "21                            NaN          NaN   \n",
       "...                           ...          ...   \n",
       "7825  H <hrod17@clintonemail.com>  Huma Abedin   \n",
       "7826  H <hrod17@clintonemail.com>          NaN   \n",
       "7827  H <hrod17@clintonemail.com>          NaN   \n",
       "7828                          NaN        dband   \n",
       "7895                          NaN          NaN   \n",
       "\n",
       "                           ExtractedDateSent ExtractedCaseNumber  \\\n",
       "4                                        NaN        F-2015-04841   \n",
       "5     Wednesday, September 12, 2012 01:00 PM        F-2015-04841   \n",
       "7                                        NaN        F-2015-04841   \n",
       "20                                       NaN        F-2015-04841   \n",
       "21                                       NaN        F-2015-04841   \n",
       "...                                      ...                 ...   \n",
       "7825          Tuesday, June 29, 2010 7:46 AM        F-2014-20439   \n",
       "7826          Tuesday, June 29, 2010 7:18 PM        F-2014-20439   \n",
       "7827          Tuesday, June 29, 2010 7:21 PM        F-2014-20439   \n",
       "7828                                     NaN        F-2014-20439   \n",
       "7895                                     NaN        F-2014-20439   \n",
       "\n",
       "     ExtractedDocNumber ExtractedDateReleased ExtractedReleaseInPartOrFull  \\\n",
       "4             C05739554            05/13/2015              RELEASE IN PART   \n",
       "5             C05739559            05/13/2015              RELEASE IN PART   \n",
       "7             C05739561            05/13/2015              RELEASE IN PART   \n",
       "20            C05739578            05/13/2015              RELEASE IN PART   \n",
       "21            C05739579            05/13/2015              RELEASE IN PART   \n",
       "...                 ...                   ...                          ...   \n",
       "7825          C05777256            08/31/2015              RELEASE IN PART   \n",
       "7826          C05777261            08/31/2015              RELEASE IN FULL   \n",
       "7827          C05777266            08/31/2015              RELEASE IN FULL   \n",
       "7828          C05777269            08/31/2015              RELEASE IN PART   \n",
       "7895          C05778286            08/31/2015              RELEASE IN PART   \n",
       "\n",
       "                                      ExtractedBodyText  \\\n",
       "4     H <hrod17@clintonemail.com>\\nFriday, March 11,...   \n",
       "5     Pis print.\\n-•-...-^\\nH < hrod17@clintonernail...   \n",
       "7     H <hrod17@clintonemail.corn>\\nFriday, March 11...   \n",
       "20    H <hrod17@clintonernaii.com›\\nWednesday, Septe...   \n",
       "21    Pis print.\\nH < hrod17@clintoriernail.corn>\\nW...   \n",
       "...                                                 ...   \n",
       "7825                             Could we move to 8:30?   \n",
       "7826  Did you and/or PIR talk to him today? Do I nee...   \n",
       "7827  Pls prepare condolence letter to Justice RBG f...   \n",
       "7828  H <hrod17@clintonemail.com>\\nWednesday, June 3...   \n",
       "7895                                                NaN   \n",
       "\n",
       "                                                RawText  \n",
       "4     B6\\nUNCLASSIFIED\\nU.S. Department of State\\nCa...  \n",
       "5     B6\\nUNCLASSIFIED\\nU.S. Department of State\\nCa...  \n",
       "7     B6\\nUNCLASSIFIED\\nU.S. Department of State\\nCa...  \n",
       "20    UNCLASSIFIED\\nU.S. Department of State\\nCase N...  \n",
       "21    UNCLASSIFIED\\nU.S. Department of State\\nCase N...  \n",
       "...                                                 ...  \n",
       "7825  UNCLASSIFIED U.S. Department of State Case No....  \n",
       "7826  UNCLASSIFIED U.S. Department of State Case No....  \n",
       "7827  UNCLASSIFIED U.S. Department of State Case No....  \n",
       "7828  UNCLASSIFIED U.S. Department of State Case No....  \n",
       "7895  UNCLASSIFIED U.S. Department of State Case No....  \n",
       "\n",
       "[1993 rows x 22 columns]"
      ]
     },
     "execution_count": 254,
     "metadata": {},
     "output_type": "execute_result"
    }
   ],
   "source": [
    "h_sent"
   ]
  },
  {
   "cell_type": "code",
   "execution_count": 253,
   "metadata": {},
   "outputs": [
    {
     "data": {
      "text/plain": [
       "4               Abedin, Huma\n",
       "5          Russorv@state.gov\n",
       "7               Abedin, Huma\n",
       "20      sullivanjj@state.gov\n",
       "21         Russorv@state.gov\n",
       "                ...         \n",
       "7825            Abedin, Huma\n",
       "7826    sullivanjj@state.gov\n",
       "7827      JilotyLC@state.gov\n",
       "7828      hanleymr@state.gov\n",
       "7895                  Daniel\n",
       "Name: MetadataTo, Length: 1993, dtype: object"
      ]
     },
     "execution_count": 253,
     "metadata": {},
     "output_type": "execute_result"
    }
   ],
   "source": [
    "h_sent[\"MetadataTo\"]"
   ]
  },
  {
   "cell_type": "code",
   "execution_count": 126,
   "metadata": {},
   "outputs": [],
   "source": [
    "h_sent.to_pickle(\"data/hilary_sent.pkl\")"
   ]
  },
  {
   "cell_type": "code",
   "execution_count": 4,
   "metadata": {},
   "outputs": [],
   "source": [
    "h_received = df_full[df_full['SenderPersonId']!=80]"
   ]
  },
  {
   "cell_type": "code",
   "execution_count": 7,
   "metadata": {},
   "outputs": [],
   "source": [
    "h_received.to_pickle(\"data/hilary_received.pkl\")"
   ]
  },
  {
   "cell_type": "markdown",
   "metadata": {},
   "source": [
    "## Topic Modeling EDA"
   ]
  },
  {
   "cell_type": "code",
   "execution_count": 451,
   "metadata": {},
   "outputs": [],
   "source": [
    "#topic_matrix_df.to_csv(\"../hilary_sent_topics.csv\", index=False)"
   ]
  },
  {
   "cell_type": "code",
   "execution_count": 7,
   "metadata": {},
   "outputs": [],
   "source": [
    "topic_matrix_df = pd.read_pickle(\"data/hilary_sent_topics.pkl\")"
   ]
  },
  {
   "cell_type": "code",
   "execution_count": 8,
   "metadata": {},
   "outputs": [],
   "source": [
    "word_topic_matrix_df= pd.read_pickle(\"data/word_topic_matrix_df.pkl\")"
   ]
  },
  {
   "cell_type": "code",
   "execution_count": 133,
   "metadata": {},
   "outputs": [
    {
     "data": {
      "text/plain": [
       "(1696, 6)"
      ]
     },
     "execution_count": 133,
     "metadata": {},
     "output_type": "execute_result"
    }
   ],
   "source": [
    "topic_matrix_df.shape"
   ]
  },
  {
   "cell_type": "code",
   "execution_count": 20,
   "metadata": {},
   "outputs": [
    {
     "data": {
      "text/html": [
       "<div>\n",
       "<style scoped>\n",
       "    .dataframe tbody tr th:only-of-type {\n",
       "        vertical-align: middle;\n",
       "    }\n",
       "\n",
       "    .dataframe tbody tr th {\n",
       "        vertical-align: top;\n",
       "    }\n",
       "\n",
       "    .dataframe thead th {\n",
       "        text-align: right;\n",
       "    }\n",
       "</style>\n",
       "<table border=\"1\" class=\"dataframe\">\n",
       "  <thead>\n",
       "    <tr style=\"text-align: right;\">\n",
       "      <th></th>\n",
       "      <th>topic_0</th>\n",
       "      <th>topic_1</th>\n",
       "      <th>topic_2</th>\n",
       "      <th>clean_email</th>\n",
       "      <th>raw_email</th>\n",
       "      <th>Id</th>\n",
       "    </tr>\n",
       "  </thead>\n",
       "  <tbody>\n",
       "    <tr>\n",
       "      <th>0</th>\n",
       "      <td>0.589528</td>\n",
       "      <td>0.323873</td>\n",
       "      <td>0.086600</td>\n",
       "      <td>Friday March PM Huma Abedin Fw Latest How Syri...</td>\n",
       "      <td>H &lt;hrod17@clintonemail.com&gt; Friday, March 11, ...</td>\n",
       "      <td>5</td>\n",
       "    </tr>\n",
       "    <tr>\n",
       "      <th>1</th>\n",
       "      <td>0.833377</td>\n",
       "      <td>0.108970</td>\n",
       "      <td>0.057653</td>\n",
       "      <td>Pis print Wednesday September PM Fw Meet The R...</td>\n",
       "      <td>Pis print. -•-...-^ H &lt; hrod17@clintonernailco...</td>\n",
       "      <td>6</td>\n",
       "    </tr>\n",
       "  </tbody>\n",
       "</table>\n",
       "</div>"
      ],
      "text/plain": [
       "    topic_0   topic_1   topic_2  \\\n",
       "0  0.589528  0.323873  0.086600   \n",
       "1  0.833377  0.108970  0.057653   \n",
       "\n",
       "                                         clean_email  \\\n",
       "0  Friday March PM Huma Abedin Fw Latest How Syri...   \n",
       "1  Pis print Wednesday September PM Fw Meet The R...   \n",
       "\n",
       "                                           raw_email  Id  \n",
       "0  H <hrod17@clintonemail.com> Friday, March 11, ...   5  \n",
       "1  Pis print. -•-...-^ H < hrod17@clintonernailco...   6  "
      ]
     },
     "execution_count": 20,
     "metadata": {},
     "output_type": "execute_result"
    }
   ],
   "source": [
    "topic_matrix_df.head(2)"
   ]
  },
  {
   "cell_type": "code",
   "execution_count": 21,
   "metadata": {},
   "outputs": [
    {
     "data": {
      "text/html": [
       "<div>\n",
       "<style scoped>\n",
       "    .dataframe tbody tr th:only-of-type {\n",
       "        vertical-align: middle;\n",
       "    }\n",
       "\n",
       "    .dataframe tbody tr th {\n",
       "        vertical-align: top;\n",
       "    }\n",
       "\n",
       "    .dataframe thead th {\n",
       "        text-align: right;\n",
       "    }\n",
       "</style>\n",
       "<table border=\"1\" class=\"dataframe\">\n",
       "  <thead>\n",
       "    <tr style=\"text-align: right;\">\n",
       "      <th></th>\n",
       "      <th>topic_0</th>\n",
       "      <th>topic_1</th>\n",
       "      <th>topic_2</th>\n",
       "    </tr>\n",
       "  </thead>\n",
       "  <tbody>\n",
       "    <tr>\n",
       "      <th>aar</th>\n",
       "      <td>0.335510</td>\n",
       "      <td>0.396478</td>\n",
       "      <td>0.694641</td>\n",
       "    </tr>\n",
       "    <tr>\n",
       "      <th>abandon</th>\n",
       "      <td>0.389462</td>\n",
       "      <td>0.334770</td>\n",
       "      <td>0.335885</td>\n",
       "    </tr>\n",
       "  </tbody>\n",
       "</table>\n",
       "</div>"
      ],
      "text/plain": [
       "          topic_0   topic_1   topic_2\n",
       "aar      0.335510  0.396478  0.694641\n",
       "abandon  0.389462  0.334770  0.335885"
      ]
     },
     "execution_count": 21,
     "metadata": {},
     "output_type": "execute_result"
    }
   ],
   "source": [
    "word_topic_matrix_df.head(2)"
   ]
  },
  {
   "cell_type": "code",
   "execution_count": 266,
   "metadata": {},
   "outputs": [],
   "source": [
    "def top_emails(topic_matrix_df, topic, n_emails):\n",
    "    return (topic_matrix_df\n",
    "            .sort_values(by=topic, ascending=False)\n",
    "            .head(n_emails)[['Id','raw_email']]\n",
    "            .values)\n"
   ]
  },
  {
   "cell_type": "code",
   "execution_count": 267,
   "metadata": {},
   "outputs": [
    {
     "name": "stdout",
     "output_type": "stream",
     "text": [
      "[2255\n",
      " \"H <hrod17@clintonemail.com> Monday, December 28, 2009 10:59 AM 'cheryl.mills@ 'PosnerMH@state.gov'; 'daniel.baer@ 'sullivanjj@state.gov' 'crowleypj@state.gov'; 'preines@ WPost editorial I thought the argument they made yesterday about the human rights speech was either deliberately obtuse or clueless. Either way, we need to respond and refute. Can you have a response drafted and sent to me? Also, I'd like to see a summary of points made by other commentary. Thx.\"]\n",
      "\n",
      "[148\n",
      " 'Diplomacy, \\'and the Real Lessons for U.S. Diplomacy Worth reading. Fro \"mailtc Sent. Monday, October 15, - 2012 _u:zi-- A79— To: H Subject: Fwd: [Salon] The Death of Ambassador Chris Stevens, the Need for \"Expeditionary Diplomacy, \"and the Real Lessons for U.S. Diplomacy Helpful article. Sid Sent from my Verizon Wireless 4G LTE DROID']\n",
      "\n",
      "[950\n",
      " \"H <hrod17@clintonemail.com> Tuesday, November 3, 2009 3:13 AM 'pverveer Morocco Ambassador Jaidi sends his warmest wishes and Let's discuss as soon as we are both in the same country at the same time! There is also much more to review. I'm off to the Forum and then to Cairo before coming to DC tomorrow night.\"]\n",
      "\n",
      "[892\n",
      " \"Melanne--I sent you the emails from Burns forwarding both Kay Warren's and Lynn Lusi's emails expressing their concerns about the partnership w Norway that I announced. I don't want to do anything that undermines Heal Africa. Will we be sending $ to them for training too? Let me know how we can answer their anxiety since I admire all they're doing. H\"]\n",
      "\n",
      "[1199\n",
      " \"H <hrod17@clintonemail.com > Sunday, November 29, 2009 12:04 PM 'sbwhoeop Re: Another memo on backdrop to this week. Sid I didn't read the McD reference that way. I actually thought it was complimentary of his spin skills. What am I missing?\"]\n",
      "\n"
     ]
    }
   ],
   "source": [
    "for email in top_emails(topic_matrix_df, 'topic_1', 5):\n",
    "    print(email)\n",
    "    print()"
   ]
  },
  {
   "cell_type": "markdown",
   "metadata": {},
   "source": [
    "# Topics and Personnels"
   ]
  },
  {
   "cell_type": "code",
   "execution_count": 131,
   "metadata": {},
   "outputs": [],
   "source": [
    "re_list = list(topic_matrix_df[\"Id\"].values)"
   ]
  },
  {
   "cell_type": "code",
   "execution_count": 204,
   "metadata": {},
   "outputs": [],
   "source": [
    "h_to = receivers[receivers[\"EmailId\"].isin(re_list)]"
   ]
  },
  {
   "cell_type": "code",
   "execution_count": 205,
   "metadata": {},
   "outputs": [],
   "source": [
    "h_to_top = pd.DataFrame((h_to.PersonId).value_counts(ascending=False).reset_index())"
   ]
  },
  {
   "cell_type": "code",
   "execution_count": 207,
   "metadata": {},
   "outputs": [],
   "source": [
    "h_to_top.rename(columns = {'index':'PersonID','PersonId':'n_email_sent'}, inplace = True)"
   ]
  },
  {
   "cell_type": "code",
   "execution_count": 231,
   "metadata": {},
   "outputs": [],
   "source": [
    "h_to_top_sort = h_to_top.sort_values(\"PersonID\")"
   ]
  },
  {
   "cell_type": "code",
   "execution_count": 234,
   "metadata": {},
   "outputs": [],
   "source": [
    "h_to_top_sort[\"Name\"] = persons[persons[\"Id\"].isin(list(h_to_top[\"PersonID\"].values))][\"Name\"].values"
   ]
  },
  {
   "cell_type": "code",
   "execution_count": 235,
   "metadata": {},
   "outputs": [
    {
     "data": {
      "text/html": [
       "<div>\n",
       "<style scoped>\n",
       "    .dataframe tbody tr th:only-of-type {\n",
       "        vertical-align: middle;\n",
       "    }\n",
       "\n",
       "    .dataframe tbody tr th {\n",
       "        vertical-align: top;\n",
       "    }\n",
       "\n",
       "    .dataframe thead th {\n",
       "        text-align: right;\n",
       "    }\n",
       "</style>\n",
       "<table border=\"1\" class=\"dataframe\">\n",
       "  <thead>\n",
       "    <tr style=\"text-align: right;\">\n",
       "      <th></th>\n",
       "      <th>PersonID</th>\n",
       "      <th>n_email_sent</th>\n",
       "      <th>Name</th>\n",
       "    </tr>\n",
       "  </thead>\n",
       "  <tbody>\n",
       "    <tr>\n",
       "      <th>37</th>\n",
       "      <td>9</td>\n",
       "      <td>5</td>\n",
       "      <td>Andrew Shapiro</td>\n",
       "    </tr>\n",
       "    <tr>\n",
       "      <th>12</th>\n",
       "      <td>10</td>\n",
       "      <td>28</td>\n",
       "      <td>Anne-Marie Slaughter</td>\n",
       "    </tr>\n",
       "    <tr>\n",
       "      <th>62</th>\n",
       "      <td>12</td>\n",
       "      <td>3</td>\n",
       "      <td>Arturo Valenzuela</td>\n",
       "    </tr>\n",
       "    <tr>\n",
       "      <th>38</th>\n",
       "      <td>15</td>\n",
       "      <td>4</td>\n",
       "      <td>Barbara Mikulski</td>\n",
       "    </tr>\n",
       "    <tr>\n",
       "      <th>118</th>\n",
       "      <td>16</td>\n",
       "      <td>1</td>\n",
       "      <td>Betsy Ebeling</td>\n",
       "    </tr>\n",
       "    <tr>\n",
       "      <th>...</th>\n",
       "      <td>...</td>\n",
       "      <td>...</td>\n",
       "      <td>...</td>\n",
       "    </tr>\n",
       "    <tr>\n",
       "      <th>209</th>\n",
       "      <td>506</td>\n",
       "      <td>1</td>\n",
       "      <td>jake.sullivar preines</td>\n",
       "    </tr>\n",
       "    <tr>\n",
       "      <th>211</th>\n",
       "      <td>507</td>\n",
       "      <td>1</td>\n",
       "      <td>capriciamarshall huma abedin</td>\n",
       "    </tr>\n",
       "    <tr>\n",
       "      <th>208</th>\n",
       "      <td>508</td>\n",
       "      <td>1</td>\n",
       "      <td>jilotylc©state.gov</td>\n",
       "    </tr>\n",
       "    <tr>\n",
       "      <th>207</th>\n",
       "      <td>512</td>\n",
       "      <td>1</td>\n",
       "      <td>hanle mr@state.gov</td>\n",
       "    </tr>\n",
       "    <tr>\n",
       "      <th>149</th>\n",
       "      <td>513</td>\n",
       "      <td>1</td>\n",
       "      <td>ha nleym r@state.gov</td>\n",
       "    </tr>\n",
       "  </tbody>\n",
       "</table>\n",
       "<p>255 rows × 3 columns</p>\n",
       "</div>"
      ],
      "text/plain": [
       "     PersonID  n_email_sent                          Name\n",
       "37          9             5                Andrew Shapiro\n",
       "12         10            28          Anne-Marie Slaughter\n",
       "62         12             3             Arturo Valenzuela\n",
       "38         15             4              Barbara Mikulski\n",
       "118        16             1                 Betsy Ebeling\n",
       "..        ...           ...                           ...\n",
       "209       506             1         jake.sullivar preines\n",
       "211       507             1  capriciamarshall huma abedin\n",
       "208       508             1            jilotylc©state.gov\n",
       "207       512             1            hanle mr@state.gov\n",
       "149       513             1          ha nleym r@state.gov\n",
       "\n",
       "[255 rows x 3 columns]"
      ]
     },
     "execution_count": 235,
     "metadata": {},
     "output_type": "execute_result"
    }
   ],
   "source": [
    "h_to_top_sort"
   ]
  },
  {
   "cell_type": "code",
   "execution_count": 269,
   "metadata": {},
   "outputs": [
    {
     "data": {
      "text/html": [
       "<div>\n",
       "<style scoped>\n",
       "    .dataframe tbody tr th:only-of-type {\n",
       "        vertical-align: middle;\n",
       "    }\n",
       "\n",
       "    .dataframe tbody tr th {\n",
       "        vertical-align: top;\n",
       "    }\n",
       "\n",
       "    .dataframe thead th {\n",
       "        text-align: right;\n",
       "    }\n",
       "</style>\n",
       "<table border=\"1\" class=\"dataframe\">\n",
       "  <thead>\n",
       "    <tr style=\"text-align: right;\">\n",
       "      <th></th>\n",
       "      <th>Id</th>\n",
       "      <th>EmailId</th>\n",
       "      <th>PersonId</th>\n",
       "    </tr>\n",
       "  </thead>\n",
       "  <tbody>\n",
       "    <tr>\n",
       "      <th>977</th>\n",
       "      <td>978</td>\n",
       "      <td>735</td>\n",
       "      <td>77</td>\n",
       "    </tr>\n",
       "    <tr>\n",
       "      <th>1861</th>\n",
       "      <td>1862</td>\n",
       "      <td>1414</td>\n",
       "      <td>77</td>\n",
       "    </tr>\n",
       "    <tr>\n",
       "      <th>1877</th>\n",
       "      <td>1878</td>\n",
       "      <td>1425</td>\n",
       "      <td>77</td>\n",
       "    </tr>\n",
       "    <tr>\n",
       "      <th>4145</th>\n",
       "      <td>4146</td>\n",
       "      <td>3467</td>\n",
       "      <td>77</td>\n",
       "    </tr>\n",
       "    <tr>\n",
       "      <th>4157</th>\n",
       "      <td>4158</td>\n",
       "      <td>3475</td>\n",
       "      <td>77</td>\n",
       "    </tr>\n",
       "    <tr>\n",
       "      <th>7798</th>\n",
       "      <td>7799</td>\n",
       "      <td>6731</td>\n",
       "      <td>77</td>\n",
       "    </tr>\n",
       "    <tr>\n",
       "      <th>7799</th>\n",
       "      <td>7800</td>\n",
       "      <td>6732</td>\n",
       "      <td>77</td>\n",
       "    </tr>\n",
       "    <tr>\n",
       "      <th>7905</th>\n",
       "      <td>7906</td>\n",
       "      <td>6817</td>\n",
       "      <td>77</td>\n",
       "    </tr>\n",
       "  </tbody>\n",
       "</table>\n",
       "</div>"
      ],
      "text/plain": [
       "        Id  EmailId  PersonId\n",
       "977    978      735        77\n",
       "1861  1862     1414        77\n",
       "1877  1878     1425        77\n",
       "4145  4146     3467        77\n",
       "4157  4158     3475        77\n",
       "7798  7799     6731        77\n",
       "7799  7800     6732        77\n",
       "7905  7906     6817        77"
      ]
     },
     "execution_count": 269,
     "metadata": {},
     "output_type": "execute_result"
    }
   ],
   "source": [
    "receivers[receivers.PersonId==77]"
   ]
  },
  {
   "cell_type": "code",
   "execution_count": 9,
   "metadata": {},
   "outputs": [],
   "source": [
    "def top_receivers(topic_matrix_df, topic, n_emails):\n",
    "    \"\"\"\n",
    "    Top topics sorted by topic and how many emails Hilary sent to the receivers\n",
    "    \"\"\"\n",
    "    email_id=list(topic_matrix_df.sort_values(by=topic, ascending=False).head(n_emails)['Id'].values)\n",
    "    receiver_list = receivers[receivers[\"EmailId\"].isin(email_id)]\n",
    "    top_receivers = pd.DataFrame((receiver_list.PersonId).value_counts(ascending=False).reset_index())\n",
    "    top_receivers.rename(columns = {'index':'PersonID','PersonId':'n_email_sent'}, inplace = True)\n",
    "    top_receivers_sort = top_receivers.sort_values(\"PersonID\")\n",
    "    top_receivers_sort[\"Name\"] = persons[persons[\"Id\"].isin(list(top_receivers[\"PersonID\"].values))][\"Name\"].values\n",
    "    return top_receivers_sort.sort_values(\"n_email_sent\", ascending = False)"
   ]
  },
  {
   "cell_type": "code",
   "execution_count": 135,
   "metadata": {},
   "outputs": [
    {
     "data": {
      "text/html": [
       "<div>\n",
       "<style scoped>\n",
       "    .dataframe tbody tr th:only-of-type {\n",
       "        vertical-align: middle;\n",
       "    }\n",
       "\n",
       "    .dataframe tbody tr th {\n",
       "        vertical-align: top;\n",
       "    }\n",
       "\n",
       "    .dataframe thead th {\n",
       "        text-align: right;\n",
       "    }\n",
       "</style>\n",
       "<table border=\"1\" class=\"dataframe\">\n",
       "  <thead>\n",
       "    <tr style=\"text-align: right;\">\n",
       "      <th></th>\n",
       "      <th>PersonID</th>\n",
       "      <th>n_email_sent</th>\n",
       "      <th>Name</th>\n",
       "    </tr>\n",
       "  </thead>\n",
       "  <tbody>\n",
       "    <tr>\n",
       "      <th>0</th>\n",
       "      <td>32</td>\n",
       "      <td>4</td>\n",
       "      <td>Cheryl Mills</td>\n",
       "    </tr>\n",
       "    <tr>\n",
       "      <th>1</th>\n",
       "      <td>77</td>\n",
       "      <td>1</td>\n",
       "      <td>Harold Hongju Koh</td>\n",
       "    </tr>\n",
       "    <tr>\n",
       "      <th>10</th>\n",
       "      <td>81</td>\n",
       "      <td>1</td>\n",
       "      <td>Huma Abedin</td>\n",
       "    </tr>\n",
       "    <tr>\n",
       "      <th>5</th>\n",
       "      <td>87</td>\n",
       "      <td>1</td>\n",
       "      <td>Jake Sullivan</td>\n",
       "    </tr>\n",
       "    <tr>\n",
       "      <th>7</th>\n",
       "      <td>116</td>\n",
       "      <td>1</td>\n",
       "      <td>Lauren Jiloty</td>\n",
       "    </tr>\n",
       "    <tr>\n",
       "      <th>2</th>\n",
       "      <td>124</td>\n",
       "      <td>1</td>\n",
       "      <td>Lona Valmoro</td>\n",
       "    </tr>\n",
       "    <tr>\n",
       "      <th>3</th>\n",
       "      <td>170</td>\n",
       "      <td>1</td>\n",
       "      <td>Philippe Reines</td>\n",
       "    </tr>\n",
       "    <tr>\n",
       "      <th>4</th>\n",
       "      <td>185</td>\n",
       "      <td>1</td>\n",
       "      <td>Robert Russo</td>\n",
       "    </tr>\n",
       "    <tr>\n",
       "      <th>9</th>\n",
       "      <td>258</td>\n",
       "      <td>1</td>\n",
       "      <td>sullivanji@state.gov</td>\n",
       "    </tr>\n",
       "    <tr>\n",
       "      <th>8</th>\n",
       "      <td>272</td>\n",
       "      <td>1</td>\n",
       "      <td>valmorou@state.gov</td>\n",
       "    </tr>\n",
       "    <tr>\n",
       "      <th>6</th>\n",
       "      <td>309</td>\n",
       "      <td>1</td>\n",
       "      <td>preines  sullivanjj@state.gov</td>\n",
       "    </tr>\n",
       "  </tbody>\n",
       "</table>\n",
       "</div>"
      ],
      "text/plain": [
       "    PersonID  n_email_sent                           Name\n",
       "0         32             4                   Cheryl Mills\n",
       "1         77             1              Harold Hongju Koh\n",
       "10        81             1                    Huma Abedin\n",
       "5         87             1                  Jake Sullivan\n",
       "7        116             1                  Lauren Jiloty\n",
       "2        124             1                   Lona Valmoro\n",
       "3        170             1                Philippe Reines\n",
       "4        185             1                   Robert Russo\n",
       "9        258             1           sullivanji@state.gov\n",
       "8        272             1             valmorou@state.gov\n",
       "6        309             1  preines  sullivanjj@state.gov"
      ]
     },
     "execution_count": 135,
     "metadata": {},
     "output_type": "execute_result"
    }
   ],
   "source": [
    "top_receivers(topic_matrix_df, \"topic_0\", 10)"
   ]
  },
  {
   "cell_type": "code",
   "execution_count": 261,
   "metadata": {},
   "outputs": [],
   "source": [
    "topic0_top10 = top_receivers(topic_matrix_df, \"topic_0\", 10)"
   ]
  },
  {
   "cell_type": "code",
   "execution_count": 11,
   "metadata": {},
   "outputs": [
    {
     "data": {
      "text/html": [
       "<div>\n",
       "<style scoped>\n",
       "    .dataframe tbody tr th:only-of-type {\n",
       "        vertical-align: middle;\n",
       "    }\n",
       "\n",
       "    .dataframe tbody tr th {\n",
       "        vertical-align: top;\n",
       "    }\n",
       "\n",
       "    .dataframe thead th {\n",
       "        text-align: right;\n",
       "    }\n",
       "</style>\n",
       "<table border=\"1\" class=\"dataframe\">\n",
       "  <thead>\n",
       "    <tr style=\"text-align: right;\">\n",
       "      <th></th>\n",
       "      <th>topic_0</th>\n",
       "      <th>topic_1</th>\n",
       "      <th>topic_2</th>\n",
       "      <th>Id</th>\n",
       "      <th>clean_email</th>\n",
       "      <th>raw_email</th>\n",
       "    </tr>\n",
       "  </thead>\n",
       "  <tbody>\n",
       "    <tr>\n",
       "      <th>446</th>\n",
       "      <td>0.839003</td>\n",
       "      <td>0.078711</td>\n",
       "      <td>0.082286</td>\n",
       "      <td>735</td>\n",
       "      <td>Harold spoke Sec Gates and Gen Jones about DOD...</td>\n",
       "      <td>Harold-- I spoke w Sec. Gates and Gen. Jones a...</td>\n",
       "    </tr>\n",
       "    <tr>\n",
       "      <th>927</th>\n",
       "      <td>0.677248</td>\n",
       "      <td>0.200811</td>\n",
       "      <td>0.121941</td>\n",
       "      <td>1414</td>\n",
       "      <td>JeffHarold spoke Kouchener who will be meeting...</td>\n",
       "      <td>Jeff/Harold-- I spoke w Kouchener who will be ...</td>\n",
       "    </tr>\n",
       "    <tr>\n",
       "      <th>931</th>\n",
       "      <td>0.547371</td>\n",
       "      <td>0.156164</td>\n",
       "      <td>0.296465</td>\n",
       "      <td>1425</td>\n",
       "      <td>Good catch Jeff Yes two issues There will be c...</td>\n",
       "      <td>Good catch, Jeff! Yes--two issues. There will ...</td>\n",
       "    </tr>\n",
       "    <tr>\n",
       "      <th>1118</th>\n",
       "      <td>0.061434</td>\n",
       "      <td>0.590701</td>\n",
       "      <td>0.347864</td>\n",
       "      <td>6731</td>\n",
       "      <td>Harold First Happy New Year to you and your fa...</td>\n",
       "      <td>Harold--- First, Happy New Year to you and you...</td>\n",
       "    </tr>\n",
       "    <tr>\n",
       "      <th>1119</th>\n",
       "      <td>0.178803</td>\n",
       "      <td>0.637174</td>\n",
       "      <td>0.184023</td>\n",
       "      <td>6732</td>\n",
       "      <td>Thanks as always</td>\n",
       "      <td>Thanks, as always.</td>\n",
       "    </tr>\n",
       "    <tr>\n",
       "      <th>1162</th>\n",
       "      <td>0.689276</td>\n",
       "      <td>0.106462</td>\n",
       "      <td>0.204262</td>\n",
       "      <td>6817</td>\n",
       "      <td>want to debrief you on my call Davutogla and d...</td>\n",
       "      <td>I want to debrief you on my call w Davutogla a...</td>\n",
       "    </tr>\n",
       "  </tbody>\n",
       "</table>\n",
       "</div>"
      ],
      "text/plain": [
       "       topic_0   topic_1   topic_2    Id  \\\n",
       "446   0.839003  0.078711  0.082286   735   \n",
       "927   0.677248  0.200811  0.121941  1414   \n",
       "931   0.547371  0.156164  0.296465  1425   \n",
       "1118  0.061434  0.590701  0.347864  6731   \n",
       "1119  0.178803  0.637174  0.184023  6732   \n",
       "1162  0.689276  0.106462  0.204262  6817   \n",
       "\n",
       "                                            clean_email  \\\n",
       "446   Harold spoke Sec Gates and Gen Jones about DOD...   \n",
       "927   JeffHarold spoke Kouchener who will be meeting...   \n",
       "931   Good catch Jeff Yes two issues There will be c...   \n",
       "1118  Harold First Happy New Year to you and your fa...   \n",
       "1119                                   Thanks as always   \n",
       "1162  want to debrief you on my call Davutogla and d...   \n",
       "\n",
       "                                              raw_email  \n",
       "446   Harold-- I spoke w Sec. Gates and Gen. Jones a...  \n",
       "927   Jeff/Harold-- I spoke w Kouchener who will be ...  \n",
       "931   Good catch, Jeff! Yes--two issues. There will ...  \n",
       "1118  Harold--- First, Happy New Year to you and you...  \n",
       "1119                                 Thanks, as always.  \n",
       "1162  I want to debrief you on my call w Davutogla a...  "
      ]
     },
     "execution_count": 11,
     "metadata": {},
     "output_type": "execute_result"
    }
   ],
   "source": [
    "topic_matrix_df[topic_matrix_df.Id.isin(list(receivers[receivers.PersonId==77].EmailId.values))]"
   ]
  },
  {
   "cell_type": "code",
   "execution_count": 281,
   "metadata": {},
   "outputs": [
    {
     "name": "stdout",
     "output_type": "stream",
     "text": [
      "Harold-- I spoke w Sec. Gates and Gen. Jones about DOD invoking the SOFA for Col. Romano Thanks for your help on this---Hillary\n",
      "\n",
      "Jeff/Harold-- I spoke w Kouchener who will be meeting in Paris tomorrow night w Moroccan FM Faris-Firri. I told him we had offered ideas to help them out of their current standoff re returning the passport. Jeff, can you call your French counterpart to explain and connect w Harold if we need L to contact the French legal advisor? Thanks-iand let me know what unfolds. Hillary\n",
      "\n",
      "Good catch, Jeff! Yes--two issues. There will be a contact group about Guinea that the French want us to be strong on too. Sorry for the confusion.\n",
      "\n",
      "Harold--- First, Happy New Year to you and your family and thank you for all of your great work this past year. I am looking forward to the year ahead. Second, what can we do about Judge Urbina's ruling example, what is the likelihood of success on appeal? Can the US file a civil action against the company? Pay compensation to the victims? What other options do we have? For B5 All the best, H\n",
      "\n",
      "Thanks, as always.\n",
      "\n",
      "I want to debrief you on my call w Davutogla and discuss strategy. Pis try to read the memcon before we meet. Thx.\n",
      "\n"
     ]
    }
   ],
   "source": [
    "for email in topic_matrix_df[topic_matrix_df.Id.isin(list(receivers[receivers.PersonId==77].EmailId.values))].raw_email.values:\n",
    "    print(email)\n",
    "    print()"
   ]
  },
  {
   "cell_type": "code",
   "execution_count": 12,
   "metadata": {},
   "outputs": [],
   "source": [
    "def email_sent_by_hilary(topic, n_emails, personid):\n",
    "    \"\"\"\n",
    "    View top emails under each topics by individuls\n",
    "    \"\"\"\n",
    "    email_id=list(topic_matrix_df.sort_values(by=topic, ascending=False).head(n_emails)['Id'].values)\n",
    "    email_df=topic_matrix_df[topic_matrix_df.Id.isin(list(receivers[receivers.PersonId==personid].EmailId.values))]\n",
    "    results = pd.DataFrame(email_df[email_df[\"Id\"].isin(email_id)])\n",
    "    print(results.Id.values)\n",
    "    print(\"-----------\")\n",
    "    for email in results.raw_email.values:\n",
    "        print(email)\n",
    "        print()\n"
   ]
  },
  {
   "cell_type": "code",
   "execution_count": 13,
   "metadata": {},
   "outputs": [
    {
     "name": "stdout",
     "output_type": "stream",
     "text": [
      "[6826]\n",
      "-----------\n",
      "TT (As prepared)--Thank you for all you did to make the speech yesterday so effective and powerful. We've gotten many positive comments and laid a solid foundation for future action. Please get caught up on sleep! All the best, Hillary\n",
      "\n"
     ]
    }
   ],
   "source": [
    "email_sent_by_hilary(\"topic_2\", 20, 205)"
   ]
  },
  {
   "cell_type": "markdown",
   "metadata": {},
   "source": [
    "***"
   ]
  },
  {
   "cell_type": "markdown",
   "metadata": {},
   "source": [
    "608: Is the 50k figure State and AID? Kurdistan election results? Can you find out for me how many Nazi prison camps we had in US during WW2 and what we did w the detainees--did we ever try any? Did we deport them after war ended? Re Sudan: how do you pronounce Abyei? What is % and dollar increase in 2010 budget for ops and aid? I don't understand the answer to the prostitution policy question. What's the simplest way to say it? (email_sent_by_hilary(\"topic_0\", 10, 87))"
   ]
  },
  {
   "cell_type": "markdown",
   "metadata": {},
   "source": [
    "273: about BENGHAZI (email_sent_by_hilary(\"topic_0\", 10, 87))"
   ]
  },
  {
   "cell_type": "markdown",
   "metadata": {},
   "source": [
    "892: Melanne--I sent you the emails from Burns forwarding both Kay Warren's and Lynn Lusi's emails expressing their concerns about the partnership w Norway that I announced. I don't want to do anything that undermines Heal Africa. Will we be sending $ to them for training too? Let me know how we can answer their anxiety since I admire all they're doing. H  (email_sent_by_hilary(\"topic_1\", 10, 143))"
   ]
  },
  {
   "cell_type": "markdown",
   "metadata": {},
   "source": [
    "1096: Do you recall Nooni Ali(?), the ten year. old Yemeni girl who got herself divorced? I met her at the Glamour awards last year. There was a CNN story last few days about how unhappy she is, still living at home, not attending school and quite angry that her life is not better. Is there any way we can help her? Could we get her to the US for counselling and education? (email_sent_by_hilary(\"topic_2\", 10, 143))"
   ]
  },
  {
   "cell_type": "markdown",
   "metadata": {},
   "source": [
    "***"
   ]
  },
  {
   "cell_type": "code",
   "execution_count": 14,
   "metadata": {},
   "outputs": [],
   "source": [
    "def view_email(emailid):\n",
    "    \"\"\"\n",
    "    View emails sent by Hilary by ID\n",
    "    \"\"\"\n",
    "    return topic_matrix_df[topic_matrix_df.Id==emailid].raw_email.values"
   ]
  },
  {
   "cell_type": "code",
   "execution_count": 368,
   "metadata": {},
   "outputs": [
    {
     "data": {
      "text/plain": [
       "array(['I\\'d like to see Molho and Laurene. .... . .. ._.. From Valmoro, Lona 3 {mailto:ValmoroU@state.gov] Sent: Sunday, November 25, 2012 07:48 AM Eastern Standard Time To: H Cc: Abedin, Hume <AbedinH©state.gov›; Huma Abedin; Valmoro, Lona 3 <Valmoroli@state,gov> Subject: Schedule MS, please find below tomorrow\\'s final draft. Two items to mention — David Hale may ask you to see Issac Molho, he is likely in town tomorrow. Secondly, Laurerie Jobs has asked to see you on Monday or Tuesday. She has just returned from overseas travel and would like to check in Thank you -- Lona 8:25 am DEPART Private Residence En route State Department [drive time: 10 minutes] 8:35 am ARRIVE State Department 8:35 am PRESIDENTIAL DAILY BRIEFING 8:40 am Secretary\\'s Office 8:45 am DAILY SENIOR STAFF MEETING 9.15 am Secretary\\'s Conference Room 9:15 am MONDAY MEETING w/ASSISTANT SECRETARIES 10:00 am Principals Conference Room 7516 10:00 am PHOTOS 10:15 am Treaty Room Staff: Claire 70, Floor \"Blue Coats and Families Joel Wiegert and Family, departing E Staff - Heidi Crebo-Rediker and Family 10:15 am OFFICE TIME 2:00 pm Secretary\\'s Office 2:00 pm PHOTOS 2:15 pm Treaty Room Staff. Claire - Webster University, DC Region (14 people) - 7th Floor \"Blue Coats\\' and Families 2:25 pm DEPART State Department En route White House U.S. Department of State Case No. F-2015-04841 Doc No. C05739834 STATE DEPT. - PRODUCED TO HOUSE SELECT BENGHAZI COMM. Date: 05/13/2015 SUBJECT TO AGREEMENT ON SENSITIVE INFORMATION & REDACTIONS. NO FOIA WAIVER. STATE-SCB0045808 U.S. Department of State Case No. F-2015-04841 Doc No. C05739834 Date: 05/13/2015 STATE DEPT. - PRODUCED TO HOUSE SELECT BENGHAZI COMM. SUBJECT TO AGREEMENT ON SENSITIVE INFORMATION & REDACTIONS. NO FOIA WAIVER. [drive time: 5 minutes] 2:30 pm ARRIVE White House 2:35 pm B5 3:20 pm White House Situation Room Contact: Caroline Krency Office 202-456-6317, B6 CLOSED PRESS Note: U/S Pat Kennedy to attend as plus one for State. 3:25 pm DEPART White House En route State Department [drive time: 5 minutes], 3:30 pm ARRIVE State Department 3:30 pm OFFICE TIME 6:00 pm Secretary\\'s Office 6:00 pm DEPART State Department En route Private Residence [drive time: 10 minutes] 6:10 pm ARRIVE Private Residence HRC RON Washington, DC WJC RON Chappaqua, NY Weather: Washington, DC: Mostly sunny, 54/39. Lona Vairrinre Special Assistant to Secretary Hillary Rodham Clinton (202) 647-9071 (direct) U.S. Department of State Case No. F-2015-04841 Doc No. C05739834 Date: 05/13/2015 STATE DEPT. - PRODUCED TO HOUSE SELECT BENGHAZI COMM. SUBJECT TO AGREEMENT ON SENSITIVE INFORMATION & REDACTIONS. NO FOIA WAIVER. STATE-SCB0045809'],\n",
       "      dtype=object)"
      ]
     },
     "execution_count": 368,
     "metadata": {},
     "output_type": "execute_result"
    }
   ],
   "source": [
    "view_email(235)"
   ]
  },
  {
   "cell_type": "markdown",
   "metadata": {},
   "source": [
    "# Topic Word Sentiment Analysis"
   ]
  },
  {
   "cell_type": "code",
   "execution_count": null,
   "metadata": {},
   "outputs": [],
   "source": [
    "def top_words(word_topic_matrix_df, topic, n_words):\n",
    "    return (word_topic_matrix_df\n",
    "            .sort_values(by=topic, ascending=False)\n",
    "            .head(n_words))[topic]"
   ]
  },
  {
   "cell_type": "code",
   "execution_count": 76,
   "metadata": {},
   "outputs": [],
   "source": [
    "topic_0 = list(top_words(word_topic_matrix_df, 'topic_0', 50).index)\n",
    "topic_1 = list(top_words(word_topic_matrix_df, 'topic_1', 50).index)\n",
    "topic_2 = list(top_words(word_topic_matrix_df, 'topic_2', 50).index)\n"
   ]
  },
  {
   "cell_type": "code",
   "execution_count": 88,
   "metadata": {},
   "outputs": [],
   "source": [
    "new_topic_0 = list(set(topic_0) - set(topic_1) - set(topic_2))"
   ]
  },
  {
   "cell_type": "code",
   "execution_count": 85,
   "metadata": {},
   "outputs": [],
   "source": [
    "new_topic_1=list(set(topic_1) - set(topic_0) - set(topic_2))"
   ]
  },
  {
   "cell_type": "code",
   "execution_count": 87,
   "metadata": {},
   "outputs": [],
   "source": [
    "new_topic_2=list(set(topic_2) - set(topic_1) - set(topic_0))"
   ]
  },
  {
   "cell_type": "code",
   "execution_count": 15,
   "metadata": {},
   "outputs": [],
   "source": [
    "from nltk.sentiment.vader import SentimentIntensityAnalyzer\n",
    "sia = SentimentIntensityAnalyzer()"
   ]
  },
  {
   "cell_type": "code",
   "execution_count": 16,
   "metadata": {},
   "outputs": [],
   "source": [
    "topic_df = topic_matrix_df.copy()"
   ]
  },
  {
   "cell_type": "code",
   "execution_count": 391,
   "metadata": {},
   "outputs": [
    {
     "data": {
      "text/html": [
       "<div>\n",
       "<style scoped>\n",
       "    .dataframe tbody tr th:only-of-type {\n",
       "        vertical-align: middle;\n",
       "    }\n",
       "\n",
       "    .dataframe tbody tr th {\n",
       "        vertical-align: top;\n",
       "    }\n",
       "\n",
       "    .dataframe thead th {\n",
       "        text-align: right;\n",
       "    }\n",
       "</style>\n",
       "<table border=\"1\" class=\"dataframe\">\n",
       "  <thead>\n",
       "    <tr style=\"text-align: right;\">\n",
       "      <th></th>\n",
       "      <th>topic_0</th>\n",
       "      <th>topic_1</th>\n",
       "      <th>topic_2</th>\n",
       "      <th>clean_email</th>\n",
       "      <th>raw_email</th>\n",
       "      <th>Id</th>\n",
       "    </tr>\n",
       "  </thead>\n",
       "  <tbody>\n",
       "    <tr>\n",
       "      <th>0</th>\n",
       "      <td>0.589528</td>\n",
       "      <td>0.323873</td>\n",
       "      <td>0.086600</td>\n",
       "      <td>Friday March PM Huma Abedin Fw Latest How Syri...</td>\n",
       "      <td>H &lt;hrod17@clintonemail.com&gt; Friday, March 11, ...</td>\n",
       "      <td>5</td>\n",
       "    </tr>\n",
       "    <tr>\n",
       "      <th>1</th>\n",
       "      <td>0.833377</td>\n",
       "      <td>0.108970</td>\n",
       "      <td>0.057653</td>\n",
       "      <td>Pis print Wednesday September PM Fw Meet The R...</td>\n",
       "      <td>Pis print. -•-...-^ H &lt; hrod17@clintonernailco...</td>\n",
       "      <td>6</td>\n",
       "    </tr>\n",
       "    <tr>\n",
       "      <th>2</th>\n",
       "      <td>0.589528</td>\n",
       "      <td>0.323873</td>\n",
       "      <td>0.086600</td>\n",
       "      <td>Friday March PM Huma Abedin Fw Latest How Syri...</td>\n",
       "      <td>H &lt;hrod17@clintonemail.corn&gt; Friday, March 11,...</td>\n",
       "      <td>8</td>\n",
       "    </tr>\n",
       "    <tr>\n",
       "      <th>3</th>\n",
       "      <td>0.343020</td>\n",
       "      <td>0.267296</td>\n",
       "      <td>0.389684</td>\n",
       "      <td>Wednesday September PM Fw Fwd more on libya Li...</td>\n",
       "      <td>H &lt;hrod17@clintonernaii.com› Wednesday, Septem...</td>\n",
       "      <td>21</td>\n",
       "    </tr>\n",
       "    <tr>\n",
       "      <th>4</th>\n",
       "      <td>0.257552</td>\n",
       "      <td>0.377110</td>\n",
       "      <td>0.365338</td>\n",
       "      <td>Pis print Wednesday September PM Fw Fwd more o...</td>\n",
       "      <td>Pis print. H &lt; hrod17@clintoriernail.corn&gt; Wed...</td>\n",
       "      <td>22</td>\n",
       "    </tr>\n",
       "    <tr>\n",
       "      <th>...</th>\n",
       "      <td>...</td>\n",
       "      <td>...</td>\n",
       "      <td>...</td>\n",
       "      <td>...</td>\n",
       "      <td>...</td>\n",
       "      <td>...</td>\n",
       "    </tr>\n",
       "    <tr>\n",
       "      <th>1691</th>\n",
       "      <td>0.107271</td>\n",
       "      <td>0.107962</td>\n",
       "      <td>0.784767</td>\n",
       "      <td>Lets do Tues evening Do you know when can see ...</td>\n",
       "      <td>B6 Let's do Tues evening. Do you know when I c...</td>\n",
       "      <td>7824</td>\n",
       "    </tr>\n",
       "    <tr>\n",
       "      <th>1692</th>\n",
       "      <td>0.333333</td>\n",
       "      <td>0.333333</td>\n",
       "      <td>0.333333</td>\n",
       "      <td>Could we move to</td>\n",
       "      <td>Could we move to 8:30?</td>\n",
       "      <td>7826</td>\n",
       "    </tr>\n",
       "    <tr>\n",
       "      <th>1693</th>\n",
       "      <td>0.100767</td>\n",
       "      <td>0.791817</td>\n",
       "      <td>0.107416</td>\n",
       "      <td>Did you andor PIR talk to him today Do need to...</td>\n",
       "      <td>Did you and/or PIR talk to him today? Do I nee...</td>\n",
       "      <td>7827</td>\n",
       "    </tr>\n",
       "    <tr>\n",
       "      <th>1694</th>\n",
       "      <td>0.086351</td>\n",
       "      <td>0.096737</td>\n",
       "      <td>0.816911</td>\n",
       "      <td>Pls prepare condolence letter to Justice RBG f...</td>\n",
       "      <td>Pls prepare condolence letter to Justice RBG f...</td>\n",
       "      <td>7828</td>\n",
       "    </tr>\n",
       "    <tr>\n",
       "      <th>1695</th>\n",
       "      <td>0.098186</td>\n",
       "      <td>0.800322</td>\n",
       "      <td>0.101492</td>\n",
       "      <td>Wednesday June PM Fw confidential Fyi</td>\n",
       "      <td>H &lt;hrod17@clintonemail.com&gt; Wednesday, June 30...</td>\n",
       "      <td>7829</td>\n",
       "    </tr>\n",
       "  </tbody>\n",
       "</table>\n",
       "<p>1696 rows × 6 columns</p>\n",
       "</div>"
      ],
      "text/plain": [
       "       topic_0   topic_1   topic_2  \\\n",
       "0     0.589528  0.323873  0.086600   \n",
       "1     0.833377  0.108970  0.057653   \n",
       "2     0.589528  0.323873  0.086600   \n",
       "3     0.343020  0.267296  0.389684   \n",
       "4     0.257552  0.377110  0.365338   \n",
       "...        ...       ...       ...   \n",
       "1691  0.107271  0.107962  0.784767   \n",
       "1692  0.333333  0.333333  0.333333   \n",
       "1693  0.100767  0.791817  0.107416   \n",
       "1694  0.086351  0.096737  0.816911   \n",
       "1695  0.098186  0.800322  0.101492   \n",
       "\n",
       "                                            clean_email  \\\n",
       "0     Friday March PM Huma Abedin Fw Latest How Syri...   \n",
       "1     Pis print Wednesday September PM Fw Meet The R...   \n",
       "2     Friday March PM Huma Abedin Fw Latest How Syri...   \n",
       "3     Wednesday September PM Fw Fwd more on libya Li...   \n",
       "4     Pis print Wednesday September PM Fw Fwd more o...   \n",
       "...                                                 ...   \n",
       "1691  Lets do Tues evening Do you know when can see ...   \n",
       "1692                                   Could we move to   \n",
       "1693  Did you andor PIR talk to him today Do need to...   \n",
       "1694  Pls prepare condolence letter to Justice RBG f...   \n",
       "1695              Wednesday June PM Fw confidential Fyi   \n",
       "\n",
       "                                              raw_email    Id  \n",
       "0     H <hrod17@clintonemail.com> Friday, March 11, ...     5  \n",
       "1     Pis print. -•-...-^ H < hrod17@clintonernailco...     6  \n",
       "2     H <hrod17@clintonemail.corn> Friday, March 11,...     8  \n",
       "3     H <hrod17@clintonernaii.com› Wednesday, Septem...    21  \n",
       "4     Pis print. H < hrod17@clintoriernail.corn> Wed...    22  \n",
       "...                                                 ...   ...  \n",
       "1691  B6 Let's do Tues evening. Do you know when I c...  7824  \n",
       "1692                             Could we move to 8:30?  7826  \n",
       "1693  Did you and/or PIR talk to him today? Do I nee...  7827  \n",
       "1694  Pls prepare condolence letter to Justice RBG f...  7828  \n",
       "1695  H <hrod17@clintonemail.com> Wednesday, June 30...  7829  \n",
       "\n",
       "[1696 rows x 6 columns]"
      ]
     },
     "execution_count": 391,
     "metadata": {},
     "output_type": "execute_result"
    }
   ],
   "source": [
    "topic_df"
   ]
  },
  {
   "cell_type": "code",
   "execution_count": 17,
   "metadata": {},
   "outputs": [],
   "source": [
    "topic_df['scores_nltk'] = topic_df['clean_email'].apply(lambda s: sia.polarity_scores(s)['compound'])\n",
    "\n",
    "topic_df['pred_nltk'] = topic_df['scores_nltk'].apply(lambda x: \"positive\" if x >0 else(\"negative\" if x < 0 else \"neutural\"))"
   ]
  },
  {
   "cell_type": "code",
   "execution_count": 18,
   "metadata": {},
   "outputs": [],
   "source": [
    "from textblob import TextBlob"
   ]
  },
  {
   "cell_type": "code",
   "execution_count": 19,
   "metadata": {},
   "outputs": [],
   "source": [
    "topic_df['scores_TextBlob'] = topic_df['clean_email'].apply(lambda s: TextBlob(s).sentiment.polarity)\n",
    "\n",
    "topic_df['pred_TextBlob'] = topic_df['scores_TextBlob'].apply(lambda x: \"positive\" if x >0 else(\"negative\" if x < 0 else \"neutural\"))"
   ]
  },
  {
   "cell_type": "code",
   "execution_count": 20,
   "metadata": {},
   "outputs": [
    {
     "data": {
      "text/html": [
       "<div>\n",
       "<style scoped>\n",
       "    .dataframe tbody tr th:only-of-type {\n",
       "        vertical-align: middle;\n",
       "    }\n",
       "\n",
       "    .dataframe tbody tr th {\n",
       "        vertical-align: top;\n",
       "    }\n",
       "\n",
       "    .dataframe thead th {\n",
       "        text-align: right;\n",
       "    }\n",
       "</style>\n",
       "<table border=\"1\" class=\"dataframe\">\n",
       "  <thead>\n",
       "    <tr style=\"text-align: right;\">\n",
       "      <th></th>\n",
       "      <th>topic_0</th>\n",
       "      <th>topic_1</th>\n",
       "      <th>topic_2</th>\n",
       "      <th>Id</th>\n",
       "      <th>clean_email</th>\n",
       "      <th>raw_email</th>\n",
       "      <th>scores_nltk</th>\n",
       "      <th>pred_nltk</th>\n",
       "      <th>scores_TextBlob</th>\n",
       "      <th>pred_TextBlob</th>\n",
       "    </tr>\n",
       "  </thead>\n",
       "  <tbody>\n",
       "    <tr>\n",
       "      <th>0</th>\n",
       "      <td>0.589528</td>\n",
       "      <td>0.323873</td>\n",
       "      <td>0.086600</td>\n",
       "      <td>5</td>\n",
       "      <td>Friday March PM Huma Abedin Fw Latest How Syri...</td>\n",
       "      <td>H &lt;hrod17@clintonemail.com&gt; Friday, March 11, ...</td>\n",
       "      <td>0.0000</td>\n",
       "      <td>neutural</td>\n",
       "      <td>0.500000</td>\n",
       "      <td>positive</td>\n",
       "    </tr>\n",
       "    <tr>\n",
       "      <th>1</th>\n",
       "      <td>0.833377</td>\n",
       "      <td>0.108970</td>\n",
       "      <td>0.057653</td>\n",
       "      <td>6</td>\n",
       "      <td>Pis print Wednesday September PM Fw Meet The R...</td>\n",
       "      <td>Pis print. -•-...-^ H &lt; hrod17@clintonernailco...</td>\n",
       "      <td>-0.9531</td>\n",
       "      <td>negative</td>\n",
       "      <td>-0.098016</td>\n",
       "      <td>negative</td>\n",
       "    </tr>\n",
       "    <tr>\n",
       "      <th>2</th>\n",
       "      <td>0.589528</td>\n",
       "      <td>0.323873</td>\n",
       "      <td>0.086600</td>\n",
       "      <td>8</td>\n",
       "      <td>Friday March PM Huma Abedin Fw Latest How Syri...</td>\n",
       "      <td>H &lt;hrod17@clintonemail.corn&gt; Friday, March 11,...</td>\n",
       "      <td>0.0000</td>\n",
       "      <td>neutural</td>\n",
       "      <td>0.500000</td>\n",
       "      <td>positive</td>\n",
       "    </tr>\n",
       "    <tr>\n",
       "      <th>3</th>\n",
       "      <td>0.343020</td>\n",
       "      <td>0.267296</td>\n",
       "      <td>0.389684</td>\n",
       "      <td>21</td>\n",
       "      <td>Wednesday September PM Fw Fwd more on libya Li...</td>\n",
       "      <td>H &lt;hrod17@clintonernaii.com› Wednesday, Septem...</td>\n",
       "      <td>0.0000</td>\n",
       "      <td>neutural</td>\n",
       "      <td>0.500000</td>\n",
       "      <td>positive</td>\n",
       "    </tr>\n",
       "    <tr>\n",
       "      <th>4</th>\n",
       "      <td>0.257552</td>\n",
       "      <td>0.377110</td>\n",
       "      <td>0.365338</td>\n",
       "      <td>22</td>\n",
       "      <td>Pis print Wednesday September PM Fw Fwd more o...</td>\n",
       "      <td>Pis print. H &lt; hrod17@clintoriernail.corn&gt; Wed...</td>\n",
       "      <td>0.0000</td>\n",
       "      <td>neutural</td>\n",
       "      <td>0.500000</td>\n",
       "      <td>positive</td>\n",
       "    </tr>\n",
       "    <tr>\n",
       "      <th>...</th>\n",
       "      <td>...</td>\n",
       "      <td>...</td>\n",
       "      <td>...</td>\n",
       "      <td>...</td>\n",
       "      <td>...</td>\n",
       "      <td>...</td>\n",
       "      <td>...</td>\n",
       "      <td>...</td>\n",
       "      <td>...</td>\n",
       "      <td>...</td>\n",
       "    </tr>\n",
       "    <tr>\n",
       "      <th>1691</th>\n",
       "      <td>0.107271</td>\n",
       "      <td>0.107962</td>\n",
       "      <td>0.784767</td>\n",
       "      <td>7824</td>\n",
       "      <td>Lets do Tues evening Do you know when can see ...</td>\n",
       "      <td>B6 Let's do Tues evening. Do you know when I c...</td>\n",
       "      <td>0.0000</td>\n",
       "      <td>neutural</td>\n",
       "      <td>0.000000</td>\n",
       "      <td>neutural</td>\n",
       "    </tr>\n",
       "    <tr>\n",
       "      <th>1692</th>\n",
       "      <td>0.333333</td>\n",
       "      <td>0.333333</td>\n",
       "      <td>0.333333</td>\n",
       "      <td>7826</td>\n",
       "      <td>Could we move to</td>\n",
       "      <td>Could we move to 8:30?</td>\n",
       "      <td>0.0000</td>\n",
       "      <td>neutural</td>\n",
       "      <td>0.000000</td>\n",
       "      <td>neutural</td>\n",
       "    </tr>\n",
       "    <tr>\n",
       "      <th>1693</th>\n",
       "      <td>0.100767</td>\n",
       "      <td>0.791817</td>\n",
       "      <td>0.107416</td>\n",
       "      <td>7827</td>\n",
       "      <td>Did you andor PIR talk to him today Do need to...</td>\n",
       "      <td>Did you and/or PIR talk to him today? Do I nee...</td>\n",
       "      <td>0.0000</td>\n",
       "      <td>neutural</td>\n",
       "      <td>0.000000</td>\n",
       "      <td>neutural</td>\n",
       "    </tr>\n",
       "    <tr>\n",
       "      <th>1694</th>\n",
       "      <td>0.086351</td>\n",
       "      <td>0.096737</td>\n",
       "      <td>0.816911</td>\n",
       "      <td>7828</td>\n",
       "      <td>Pls prepare condolence letter to Justice RBG f...</td>\n",
       "      <td>Pls prepare condolence letter to Justice RBG f...</td>\n",
       "      <td>0.3400</td>\n",
       "      <td>positive</td>\n",
       "      <td>0.000000</td>\n",
       "      <td>neutural</td>\n",
       "    </tr>\n",
       "    <tr>\n",
       "      <th>1695</th>\n",
       "      <td>0.098186</td>\n",
       "      <td>0.800322</td>\n",
       "      <td>0.101492</td>\n",
       "      <td>7829</td>\n",
       "      <td>Wednesday June PM Fw confidential Fyi</td>\n",
       "      <td>H &lt;hrod17@clintonemail.com&gt; Wednesday, June 30...</td>\n",
       "      <td>0.2023</td>\n",
       "      <td>positive</td>\n",
       "      <td>0.000000</td>\n",
       "      <td>neutural</td>\n",
       "    </tr>\n",
       "  </tbody>\n",
       "</table>\n",
       "<p>1696 rows × 10 columns</p>\n",
       "</div>"
      ],
      "text/plain": [
       "       topic_0   topic_1   topic_2    Id  \\\n",
       "0     0.589528  0.323873  0.086600     5   \n",
       "1     0.833377  0.108970  0.057653     6   \n",
       "2     0.589528  0.323873  0.086600     8   \n",
       "3     0.343020  0.267296  0.389684    21   \n",
       "4     0.257552  0.377110  0.365338    22   \n",
       "...        ...       ...       ...   ...   \n",
       "1691  0.107271  0.107962  0.784767  7824   \n",
       "1692  0.333333  0.333333  0.333333  7826   \n",
       "1693  0.100767  0.791817  0.107416  7827   \n",
       "1694  0.086351  0.096737  0.816911  7828   \n",
       "1695  0.098186  0.800322  0.101492  7829   \n",
       "\n",
       "                                            clean_email  \\\n",
       "0     Friday March PM Huma Abedin Fw Latest How Syri...   \n",
       "1     Pis print Wednesday September PM Fw Meet The R...   \n",
       "2     Friday March PM Huma Abedin Fw Latest How Syri...   \n",
       "3     Wednesday September PM Fw Fwd more on libya Li...   \n",
       "4     Pis print Wednesday September PM Fw Fwd more o...   \n",
       "...                                                 ...   \n",
       "1691  Lets do Tues evening Do you know when can see ...   \n",
       "1692                                   Could we move to   \n",
       "1693  Did you andor PIR talk to him today Do need to...   \n",
       "1694  Pls prepare condolence letter to Justice RBG f...   \n",
       "1695              Wednesday June PM Fw confidential Fyi   \n",
       "\n",
       "                                              raw_email  scores_nltk  \\\n",
       "0     H <hrod17@clintonemail.com> Friday, March 11, ...       0.0000   \n",
       "1     Pis print. -•-...-^ H < hrod17@clintonernailco...      -0.9531   \n",
       "2     H <hrod17@clintonemail.corn> Friday, March 11,...       0.0000   \n",
       "3     H <hrod17@clintonernaii.com› Wednesday, Septem...       0.0000   \n",
       "4     Pis print. H < hrod17@clintoriernail.corn> Wed...       0.0000   \n",
       "...                                                 ...          ...   \n",
       "1691  B6 Let's do Tues evening. Do you know when I c...       0.0000   \n",
       "1692                             Could we move to 8:30?       0.0000   \n",
       "1693  Did you and/or PIR talk to him today? Do I nee...       0.0000   \n",
       "1694  Pls prepare condolence letter to Justice RBG f...       0.3400   \n",
       "1695  H <hrod17@clintonemail.com> Wednesday, June 30...       0.2023   \n",
       "\n",
       "     pred_nltk  scores_TextBlob pred_TextBlob  \n",
       "0     neutural         0.500000      positive  \n",
       "1     negative        -0.098016      negative  \n",
       "2     neutural         0.500000      positive  \n",
       "3     neutural         0.500000      positive  \n",
       "4     neutural         0.500000      positive  \n",
       "...        ...              ...           ...  \n",
       "1691  neutural         0.000000      neutural  \n",
       "1692  neutural         0.000000      neutural  \n",
       "1693  neutural         0.000000      neutural  \n",
       "1694  positive         0.000000      neutural  \n",
       "1695  positive         0.000000      neutural  \n",
       "\n",
       "[1696 rows x 10 columns]"
      ]
     },
     "execution_count": 20,
     "metadata": {},
     "output_type": "execute_result"
    }
   ],
   "source": [
    "topic_df"
   ]
  },
  {
   "cell_type": "code",
   "execution_count": 408,
   "metadata": {},
   "outputs": [
    {
     "data": {
      "text/plain": [
       "positive    899\n",
       "neutural    630\n",
       "negative    167\n",
       "Name: pred_VADER, dtype: int64"
      ]
     },
     "execution_count": 408,
     "metadata": {},
     "output_type": "execute_result"
    }
   ],
   "source": [
    "topic_df['pred_nltk'].value_counts()"
   ]
  },
  {
   "cell_type": "code",
   "execution_count": 412,
   "metadata": {},
   "outputs": [
    {
     "data": {
      "text/plain": [
       "neutural    912\n",
       "positive    640\n",
       "negative    144\n",
       "Name: pred_TextBlob, dtype: int64"
      ]
     },
     "execution_count": 412,
     "metadata": {},
     "output_type": "execute_result"
    }
   ],
   "source": [
    "topic_df['pred_TextBlob'].value_counts()"
   ]
  },
  {
   "cell_type": "code",
   "execution_count": 136,
   "metadata": {},
   "outputs": [
    {
     "data": {
      "image/png": "[encoded data removed]",
      "text/plain": [
       "<Figure size 432x288 with 1 Axes>"
      ]
     },
     "metadata": {
      "needs_background": "light"
     },
     "output_type": "display_data"
    }
   ],
   "source": [
    "plt.scatter(topic_df['Id'],topic_df['scores_nltk'])\n",
    "#plt.savefig(\"img/nltk_vader.jpg\");"
   ]
  },
  {
   "cell_type": "code",
   "execution_count": 137,
   "metadata": {},
   "outputs": [
    {
     "data": {
      "image/png": "[encoded data removed]",
      "text/plain": [
       "<Figure size 432x288 with 1 Axes>"
      ]
     },
     "metadata": {
      "needs_background": "light"
     },
     "output_type": "display_data"
    }
   ],
   "source": [
    "plt.scatter(topic_df['Id'],topic_df['scores_TextBlob'])\n",
    "#plt.savefig(\"img/text_blob.jpg\");"
   ]
  },
  {
   "cell_type": "code",
   "execution_count": 121,
   "metadata": {},
   "outputs": [
    {
     "data": {
      "image/png": "[encoded data removed]",
      "text/plain": [
       "<Figure size 432x288 with 1 Axes>"
      ]
     },
     "metadata": {
      "needs_background": "light"
     },
     "output_type": "display_data"
    }
   ],
   "source": [
    "plt.hist(topic_df['scores_nltk'], bins=10, alpha=0.8, label='nltk', color = \"#143a78\")\n",
    "plt.hist(topic_df['scores_TextBlob'], bins=10, alpha=0.8, label='TextBlob', color = \"#d9d9d9\")\n",
    "plt.legend(loc='upper right')\n",
    "plt.show()\n",
    "#plt.savefig(\"img/sentiment_comp.jpg\")"
   ]
  },
  {
   "cell_type": "code",
   "execution_count": 21,
   "metadata": {},
   "outputs": [],
   "source": [
    "textblob = list(topic_df[\"pred_TextBlob\"])"
   ]
  },
  {
   "cell_type": "code",
   "execution_count": 22,
   "metadata": {},
   "outputs": [],
   "source": [
    "nltksen = list(topic_df['pred_nltk'])"
   ]
  },
  {
   "cell_type": "code",
   "execution_count": 39,
   "metadata": {},
   "outputs": [],
   "source": [
    "for i in range(len(textblob)):\n",
    "\n",
    "    if textblob[i] == nltksen[i]: \n",
    "        topic_df[\"same\"][i] = 1\n"
   ]
  },
  {
   "cell_type": "code",
   "execution_count": 46,
   "metadata": {},
   "outputs": [
    {
     "data": {
      "text/plain": [
       "pred_TextBlob\n",
       "neutural    521\n",
       "positive    516\n",
       "negative     59\n",
       "dtype: int64"
      ]
     },
     "execution_count": 46,
     "metadata": {},
     "output_type": "execute_result"
    }
   ],
   "source": [
    "topic_df[topic_df[\"same\"] == 1].value_counts(\"pred_TextBlob\")"
   ]
  },
  {
   "cell_type": "code",
   "execution_count": 67,
   "metadata": {},
   "outputs": [],
   "source": [
    "topic_senti_df = topic_df[topic_df[\"same\"] == 1]"
   ]
  },
  {
   "cell_type": "code",
   "execution_count": 473,
   "metadata": {},
   "outputs": [
    {
     "data": {
      "image/png": "[encoded data removed]",
      "text/plain": [
       "<Figure size 432x288 with 1 Axes>"
      ]
     },
     "metadata": {
      "needs_background": "light"
     },
     "output_type": "display_data"
    }
   ],
   "source": [
    "plt.hist(topic_senti_df[topic_senti_df['scores_nltk']!=0]['scores_nltk'], bins=50, alpha=0.5, label='nltk')\n",
    "plt.legend(loc='upper left')\n",
    "plt.show()"
   ]
  },
  {
   "cell_type": "code",
   "execution_count": 62,
   "metadata": {},
   "outputs": [],
   "source": [
    "topic_df.to_csv(\"data/topic_df.csv\", index = False)"
   ]
  },
  {
   "cell_type": "code",
   "execution_count": 63,
   "metadata": {},
   "outputs": [],
   "source": [
    "topic_df.to_pickle(\"data/topic_df.pkl\")"
   ]
  },
  {
   "cell_type": "code",
   "execution_count": 60,
   "metadata": {},
   "outputs": [],
   "source": [
    "topic_df[\"topic\"] = topic_df.iloc[:,:3].idxmax(axis=1)"
   ]
  },
  {
   "cell_type": "code",
   "execution_count": 96,
   "metadata": {},
   "outputs": [
    {
     "data": {
      "text/html": [
       "<div>\n",
       "<style scoped>\n",
       "    .dataframe tbody tr th:only-of-type {\n",
       "        vertical-align: middle;\n",
       "    }\n",
       "\n",
       "    .dataframe tbody tr th {\n",
       "        vertical-align: top;\n",
       "    }\n",
       "\n",
       "    .dataframe thead th {\n",
       "        text-align: right;\n",
       "    }\n",
       "</style>\n",
       "<table border=\"1\" class=\"dataframe\">\n",
       "  <thead>\n",
       "    <tr style=\"text-align: right;\">\n",
       "      <th></th>\n",
       "      <th>topic_0</th>\n",
       "      <th>topic_1</th>\n",
       "      <th>topic_2</th>\n",
       "    </tr>\n",
       "  </thead>\n",
       "  <tbody>\n",
       "    <tr>\n",
       "      <th>count</th>\n",
       "      <td>1696.000000</td>\n",
       "      <td>1696.000000</td>\n",
       "      <td>1696.000000</td>\n",
       "    </tr>\n",
       "    <tr>\n",
       "      <th>mean</th>\n",
       "      <td>0.254324</td>\n",
       "      <td>0.418437</td>\n",
       "      <td>0.327239</td>\n",
       "    </tr>\n",
       "    <tr>\n",
       "      <th>std</th>\n",
       "      <td>0.229667</td>\n",
       "      <td>0.281077</td>\n",
       "      <td>0.265543</td>\n",
       "    </tr>\n",
       "    <tr>\n",
       "      <th>min</th>\n",
       "      <td>0.051728</td>\n",
       "      <td>0.041930</td>\n",
       "      <td>0.035898</td>\n",
       "    </tr>\n",
       "    <tr>\n",
       "      <th>25%</th>\n",
       "      <td>0.103048</td>\n",
       "      <td>0.139279</td>\n",
       "      <td>0.120513</td>\n",
       "    </tr>\n",
       "    <tr>\n",
       "      <th>50%</th>\n",
       "      <td>0.138987</td>\n",
       "      <td>0.333404</td>\n",
       "      <td>0.167406</td>\n",
       "    </tr>\n",
       "    <tr>\n",
       "      <th>75%</th>\n",
       "      <td>0.333333</td>\n",
       "      <td>0.719556</td>\n",
       "      <td>0.606152</td>\n",
       "    </tr>\n",
       "    <tr>\n",
       "      <th>max</th>\n",
       "      <td>0.911867</td>\n",
       "      <td>0.874237</td>\n",
       "      <td>0.884356</td>\n",
       "    </tr>\n",
       "  </tbody>\n",
       "</table>\n",
       "</div>"
      ],
      "text/plain": [
       "           topic_0      topic_1      topic_2\n",
       "count  1696.000000  1696.000000  1696.000000\n",
       "mean      0.254324     0.418437     0.327239\n",
       "std       0.229667     0.281077     0.265543\n",
       "min       0.051728     0.041930     0.035898\n",
       "25%       0.103048     0.139279     0.120513\n",
       "50%       0.138987     0.333404     0.167406\n",
       "75%       0.333333     0.719556     0.606152\n",
       "max       0.911867     0.874237     0.884356"
      ]
     },
     "execution_count": 96,
     "metadata": {},
     "output_type": "execute_result"
    }
   ],
   "source": [
    "abs(topic_df.iloc[:,:3]).describe()"
   ]
  },
  {
   "cell_type": "code",
   "execution_count": 61,
   "metadata": {},
   "outputs": [
    {
     "data": {
      "text/html": [
       "<div>\n",
       "<style scoped>\n",
       "    .dataframe tbody tr th:only-of-type {\n",
       "        vertical-align: middle;\n",
       "    }\n",
       "\n",
       "    .dataframe tbody tr th {\n",
       "        vertical-align: top;\n",
       "    }\n",
       "\n",
       "    .dataframe thead th {\n",
       "        text-align: right;\n",
       "    }\n",
       "</style>\n",
       "<table border=\"1\" class=\"dataframe\">\n",
       "  <thead>\n",
       "    <tr style=\"text-align: right;\">\n",
       "      <th></th>\n",
       "      <th>topic_0</th>\n",
       "      <th>topic_1</th>\n",
       "      <th>topic_2</th>\n",
       "      <th>Id</th>\n",
       "      <th>clean_email</th>\n",
       "      <th>raw_email</th>\n",
       "      <th>scores_nltk</th>\n",
       "      <th>pred_nltk</th>\n",
       "      <th>scores_TextBlob</th>\n",
       "      <th>pred_TextBlob</th>\n",
       "      <th>same</th>\n",
       "      <th>topic</th>\n",
       "    </tr>\n",
       "  </thead>\n",
       "  <tbody>\n",
       "    <tr>\n",
       "      <th>0</th>\n",
       "      <td>0.589528</td>\n",
       "      <td>0.323873</td>\n",
       "      <td>0.086600</td>\n",
       "      <td>5</td>\n",
       "      <td>Friday March PM Huma Abedin Fw Latest How Syri...</td>\n",
       "      <td>H &lt;hrod17@clintonemail.com&gt; Friday, March 11, ...</td>\n",
       "      <td>0.0000</td>\n",
       "      <td>neutural</td>\n",
       "      <td>0.500000</td>\n",
       "      <td>positive</td>\n",
       "      <td>0</td>\n",
       "      <td>topic_0</td>\n",
       "    </tr>\n",
       "    <tr>\n",
       "      <th>1</th>\n",
       "      <td>0.833377</td>\n",
       "      <td>0.108970</td>\n",
       "      <td>0.057653</td>\n",
       "      <td>6</td>\n",
       "      <td>Pis print Wednesday September PM Fw Meet The R...</td>\n",
       "      <td>Pis print. -•-...-^ H &lt; hrod17@clintonernailco...</td>\n",
       "      <td>-0.9531</td>\n",
       "      <td>negative</td>\n",
       "      <td>-0.098016</td>\n",
       "      <td>negative</td>\n",
       "      <td>1</td>\n",
       "      <td>topic_0</td>\n",
       "    </tr>\n",
       "    <tr>\n",
       "      <th>2</th>\n",
       "      <td>0.589528</td>\n",
       "      <td>0.323873</td>\n",
       "      <td>0.086600</td>\n",
       "      <td>8</td>\n",
       "      <td>Friday March PM Huma Abedin Fw Latest How Syri...</td>\n",
       "      <td>H &lt;hrod17@clintonemail.corn&gt; Friday, March 11,...</td>\n",
       "      <td>0.0000</td>\n",
       "      <td>neutural</td>\n",
       "      <td>0.500000</td>\n",
       "      <td>positive</td>\n",
       "      <td>0</td>\n",
       "      <td>topic_0</td>\n",
       "    </tr>\n",
       "    <tr>\n",
       "      <th>3</th>\n",
       "      <td>0.343020</td>\n",
       "      <td>0.267296</td>\n",
       "      <td>0.389684</td>\n",
       "      <td>21</td>\n",
       "      <td>Wednesday September PM Fw Fwd more on libya Li...</td>\n",
       "      <td>H &lt;hrod17@clintonernaii.com› Wednesday, Septem...</td>\n",
       "      <td>0.0000</td>\n",
       "      <td>neutural</td>\n",
       "      <td>0.500000</td>\n",
       "      <td>positive</td>\n",
       "      <td>0</td>\n",
       "      <td>topic_2</td>\n",
       "    </tr>\n",
       "    <tr>\n",
       "      <th>4</th>\n",
       "      <td>0.257552</td>\n",
       "      <td>0.377110</td>\n",
       "      <td>0.365338</td>\n",
       "      <td>22</td>\n",
       "      <td>Pis print Wednesday September PM Fw Fwd more o...</td>\n",
       "      <td>Pis print. H &lt; hrod17@clintoriernail.corn&gt; Wed...</td>\n",
       "      <td>0.0000</td>\n",
       "      <td>neutural</td>\n",
       "      <td>0.500000</td>\n",
       "      <td>positive</td>\n",
       "      <td>0</td>\n",
       "      <td>topic_1</td>\n",
       "    </tr>\n",
       "    <tr>\n",
       "      <th>...</th>\n",
       "      <td>...</td>\n",
       "      <td>...</td>\n",
       "      <td>...</td>\n",
       "      <td>...</td>\n",
       "      <td>...</td>\n",
       "      <td>...</td>\n",
       "      <td>...</td>\n",
       "      <td>...</td>\n",
       "      <td>...</td>\n",
       "      <td>...</td>\n",
       "      <td>...</td>\n",
       "      <td>...</td>\n",
       "    </tr>\n",
       "    <tr>\n",
       "      <th>1691</th>\n",
       "      <td>0.107271</td>\n",
       "      <td>0.107962</td>\n",
       "      <td>0.784767</td>\n",
       "      <td>7824</td>\n",
       "      <td>Lets do Tues evening Do you know when can see ...</td>\n",
       "      <td>B6 Let's do Tues evening. Do you know when I c...</td>\n",
       "      <td>0.0000</td>\n",
       "      <td>neutural</td>\n",
       "      <td>0.000000</td>\n",
       "      <td>neutural</td>\n",
       "      <td>1</td>\n",
       "      <td>topic_2</td>\n",
       "    </tr>\n",
       "    <tr>\n",
       "      <th>1692</th>\n",
       "      <td>0.333333</td>\n",
       "      <td>0.333333</td>\n",
       "      <td>0.333333</td>\n",
       "      <td>7826</td>\n",
       "      <td>Could we move to</td>\n",
       "      <td>Could we move to 8:30?</td>\n",
       "      <td>0.0000</td>\n",
       "      <td>neutural</td>\n",
       "      <td>0.000000</td>\n",
       "      <td>neutural</td>\n",
       "      <td>1</td>\n",
       "      <td>topic_0</td>\n",
       "    </tr>\n",
       "    <tr>\n",
       "      <th>1693</th>\n",
       "      <td>0.100767</td>\n",
       "      <td>0.791817</td>\n",
       "      <td>0.107416</td>\n",
       "      <td>7827</td>\n",
       "      <td>Did you andor PIR talk to him today Do need to...</td>\n",
       "      <td>Did you and/or PIR talk to him today? Do I nee...</td>\n",
       "      <td>0.0000</td>\n",
       "      <td>neutural</td>\n",
       "      <td>0.000000</td>\n",
       "      <td>neutural</td>\n",
       "      <td>1</td>\n",
       "      <td>topic_1</td>\n",
       "    </tr>\n",
       "    <tr>\n",
       "      <th>1694</th>\n",
       "      <td>0.086351</td>\n",
       "      <td>0.096737</td>\n",
       "      <td>0.816911</td>\n",
       "      <td>7828</td>\n",
       "      <td>Pls prepare condolence letter to Justice RBG f...</td>\n",
       "      <td>Pls prepare condolence letter to Justice RBG f...</td>\n",
       "      <td>0.3400</td>\n",
       "      <td>positive</td>\n",
       "      <td>0.000000</td>\n",
       "      <td>neutural</td>\n",
       "      <td>0</td>\n",
       "      <td>topic_2</td>\n",
       "    </tr>\n",
       "    <tr>\n",
       "      <th>1695</th>\n",
       "      <td>0.098186</td>\n",
       "      <td>0.800322</td>\n",
       "      <td>0.101492</td>\n",
       "      <td>7829</td>\n",
       "      <td>Wednesday June PM Fw confidential Fyi</td>\n",
       "      <td>H &lt;hrod17@clintonemail.com&gt; Wednesday, June 30...</td>\n",
       "      <td>0.2023</td>\n",
       "      <td>positive</td>\n",
       "      <td>0.000000</td>\n",
       "      <td>neutural</td>\n",
       "      <td>0</td>\n",
       "      <td>topic_1</td>\n",
       "    </tr>\n",
       "  </tbody>\n",
       "</table>\n",
       "<p>1696 rows × 12 columns</p>\n",
       "</div>"
      ],
      "text/plain": [
       "       topic_0   topic_1   topic_2    Id  \\\n",
       "0     0.589528  0.323873  0.086600     5   \n",
       "1     0.833377  0.108970  0.057653     6   \n",
       "2     0.589528  0.323873  0.086600     8   \n",
       "3     0.343020  0.267296  0.389684    21   \n",
       "4     0.257552  0.377110  0.365338    22   \n",
       "...        ...       ...       ...   ...   \n",
       "1691  0.107271  0.107962  0.784767  7824   \n",
       "1692  0.333333  0.333333  0.333333  7826   \n",
       "1693  0.100767  0.791817  0.107416  7827   \n",
       "1694  0.086351  0.096737  0.816911  7828   \n",
       "1695  0.098186  0.800322  0.101492  7829   \n",
       "\n",
       "                                            clean_email  \\\n",
       "0     Friday March PM Huma Abedin Fw Latest How Syri...   \n",
       "1     Pis print Wednesday September PM Fw Meet The R...   \n",
       "2     Friday March PM Huma Abedin Fw Latest How Syri...   \n",
       "3     Wednesday September PM Fw Fwd more on libya Li...   \n",
       "4     Pis print Wednesday September PM Fw Fwd more o...   \n",
       "...                                                 ...   \n",
       "1691  Lets do Tues evening Do you know when can see ...   \n",
       "1692                                   Could we move to   \n",
       "1693  Did you andor PIR talk to him today Do need to...   \n",
       "1694  Pls prepare condolence letter to Justice RBG f...   \n",
       "1695              Wednesday June PM Fw confidential Fyi   \n",
       "\n",
       "                                              raw_email  scores_nltk  \\\n",
       "0     H <hrod17@clintonemail.com> Friday, March 11, ...       0.0000   \n",
       "1     Pis print. -•-...-^ H < hrod17@clintonernailco...      -0.9531   \n",
       "2     H <hrod17@clintonemail.corn> Friday, March 11,...       0.0000   \n",
       "3     H <hrod17@clintonernaii.com› Wednesday, Septem...       0.0000   \n",
       "4     Pis print. H < hrod17@clintoriernail.corn> Wed...       0.0000   \n",
       "...                                                 ...          ...   \n",
       "1691  B6 Let's do Tues evening. Do you know when I c...       0.0000   \n",
       "1692                             Could we move to 8:30?       0.0000   \n",
       "1693  Did you and/or PIR talk to him today? Do I nee...       0.0000   \n",
       "1694  Pls prepare condolence letter to Justice RBG f...       0.3400   \n",
       "1695  H <hrod17@clintonemail.com> Wednesday, June 30...       0.2023   \n",
       "\n",
       "     pred_nltk  scores_TextBlob pred_TextBlob  same    topic  \n",
       "0     neutural         0.500000      positive     0  topic_0  \n",
       "1     negative        -0.098016      negative     1  topic_0  \n",
       "2     neutural         0.500000      positive     0  topic_0  \n",
       "3     neutural         0.500000      positive     0  topic_2  \n",
       "4     neutural         0.500000      positive     0  topic_1  \n",
       "...        ...              ...           ...   ...      ...  \n",
       "1691  neutural         0.000000      neutural     1  topic_2  \n",
       "1692  neutural         0.000000      neutural     1  topic_0  \n",
       "1693  neutural         0.000000      neutural     1  topic_1  \n",
       "1694  positive         0.000000      neutural     0  topic_2  \n",
       "1695  positive         0.000000      neutural     0  topic_1  \n",
       "\n",
       "[1696 rows x 12 columns]"
      ]
     },
     "execution_count": 61,
     "metadata": {},
     "output_type": "execute_result"
    }
   ],
   "source": [
    "topic_df"
   ]
  },
  {
   "cell_type": "code",
   "execution_count": 86,
   "metadata": {},
   "outputs": [
    {
     "data": {
      "text/html": [
       "<div>\n",
       "<style scoped>\n",
       "    .dataframe tbody tr th:only-of-type {\n",
       "        vertical-align: middle;\n",
       "    }\n",
       "\n",
       "    .dataframe tbody tr th {\n",
       "        vertical-align: top;\n",
       "    }\n",
       "\n",
       "    .dataframe thead th {\n",
       "        text-align: right;\n",
       "    }\n",
       "</style>\n",
       "<table border=\"1\" class=\"dataframe\">\n",
       "  <thead>\n",
       "    <tr style=\"text-align: right;\">\n",
       "      <th></th>\n",
       "      <th>topic_0</th>\n",
       "      <th>topic_1</th>\n",
       "      <th>topic_2</th>\n",
       "      <th>Id</th>\n",
       "      <th>scores_nltk</th>\n",
       "      <th>scores_TextBlob</th>\n",
       "      <th>same</th>\n",
       "    </tr>\n",
       "    <tr>\n",
       "      <th>topic</th>\n",
       "      <th></th>\n",
       "      <th></th>\n",
       "      <th></th>\n",
       "      <th></th>\n",
       "      <th></th>\n",
       "      <th></th>\n",
       "      <th></th>\n",
       "    </tr>\n",
       "  </thead>\n",
       "  <tbody>\n",
       "    <tr>\n",
       "      <th>topic_0</th>\n",
       "      <td>163.912994</td>\n",
       "      <td>54.037344</td>\n",
       "      <td>50.049662</td>\n",
       "      <td>875618</td>\n",
       "      <td>50.4193</td>\n",
       "      <td>31.021890</td>\n",
       "      <td>268</td>\n",
       "    </tr>\n",
       "    <tr>\n",
       "      <th>topic_1</th>\n",
       "      <td>64.772852</td>\n",
       "      <td>333.525298</td>\n",
       "      <td>70.701851</td>\n",
       "      <td>1500230</td>\n",
       "      <td>107.2374</td>\n",
       "      <td>74.536141</td>\n",
       "      <td>469</td>\n",
       "    </tr>\n",
       "    <tr>\n",
       "      <th>topic_2</th>\n",
       "      <td>48.449431</td>\n",
       "      <td>61.031765</td>\n",
       "      <td>249.518804</td>\n",
       "      <td>1232316</td>\n",
       "      <td>110.8734</td>\n",
       "      <td>76.038496</td>\n",
       "      <td>359</td>\n",
       "    </tr>\n",
       "  </tbody>\n",
       "</table>\n",
       "</div>"
      ],
      "text/plain": [
       "            topic_0     topic_1     topic_2       Id  scores_nltk  \\\n",
       "topic                                                               \n",
       "topic_0  163.912994   54.037344   50.049662   875618      50.4193   \n",
       "topic_1   64.772852  333.525298   70.701851  1500230     107.2374   \n",
       "topic_2   48.449431   61.031765  249.518804  1232316     110.8734   \n",
       "\n",
       "         scores_TextBlob  same  \n",
       "topic                           \n",
       "topic_0        31.021890   268  \n",
       "topic_1        74.536141   469  \n",
       "topic_2        76.038496   359  "
      ]
     },
     "execution_count": 86,
     "metadata": {},
     "output_type": "execute_result"
    }
   ],
   "source": [
    "topic_senti_df.groupby([\"topic\"]).sum()"
   ]
  },
  {
   "cell_type": "code",
   "execution_count": 87,
   "metadata": {},
   "outputs": [],
   "source": [
    "topic_senti_df.to_csv(\"data/topic_sentiment.csv\", index = False)"
   ]
  },
  {
   "cell_type": "code",
   "execution_count": 122,
   "metadata": {},
   "outputs": [
    {
     "data": {
      "text/plain": [
       "neutural    521\n",
       "positive    516\n",
       "negative     59\n",
       "Name: pred_nltk, dtype: int64"
      ]
     },
     "execution_count": 122,
     "metadata": {},
     "output_type": "execute_result"
    }
   ],
   "source": [
    "topic_senti_df[\"pred_nltk\"].value_counts()"
   ]
  },
  {
   "cell_type": "code",
   "execution_count": 127,
   "metadata": {},
   "outputs": [
    {
     "data": {
      "text/plain": [
       "topic_1    469\n",
       "topic_2    359\n",
       "topic_0    268\n",
       "Name: topic, dtype: int64"
      ]
     },
     "execution_count": 127,
     "metadata": {},
     "output_type": "execute_result"
    }
   ],
   "source": [
    "topic_senti_df[\"topic\"].value_counts()"
   ]
  },
  {
   "cell_type": "code",
   "execution_count": 123,
   "metadata": {},
   "outputs": [
    {
     "data": {
      "text/plain": [
       "neutural    156\n",
       "positive     99\n",
       "negative     13\n",
       "Name: pred_nltk, dtype: int64"
      ]
     },
     "execution_count": 123,
     "metadata": {},
     "output_type": "execute_result"
    }
   ],
   "source": [
    "topic_senti_df[topic_senti_df[\"topic\"]==\"topic_0\"][\"pred_nltk\"].value_counts()"
   ]
  },
  {
   "cell_type": "code",
   "execution_count": 125,
   "metadata": {},
   "outputs": [
    {
     "data": {
      "text/plain": [
       "positive    227\n",
       "neutural    211\n",
       "negative     31\n",
       "Name: pred_nltk, dtype: int64"
      ]
     },
     "execution_count": 125,
     "metadata": {},
     "output_type": "execute_result"
    }
   ],
   "source": [
    "topic_senti_df[topic_senti_df[\"topic\"]==\"topic_1\"][\"pred_nltk\"].value_counts()"
   ]
  },
  {
   "cell_type": "code",
   "execution_count": 126,
   "metadata": {},
   "outputs": [
    {
     "data": {
      "text/plain": [
       "positive    190\n",
       "neutural    154\n",
       "negative     15\n",
       "Name: pred_nltk, dtype: int64"
      ]
     },
     "execution_count": 126,
     "metadata": {},
     "output_type": "execute_result"
    }
   ],
   "source": [
    "topic_senti_df[topic_senti_df[\"topic\"]==\"topic_2\"][\"pred_nltk\"].value_counts()"
   ]
  },
  {
   "cell_type": "code",
   "execution_count": 129,
   "metadata": {},
   "outputs": [
    {
     "data": {
      "text/plain": [
       "neutural    156\n",
       "positive     99\n",
       "negative     13\n",
       "Name: pred_nltk, dtype: int64"
      ]
     },
     "execution_count": 129,
     "metadata": {},
     "output_type": "execute_result"
    }
   ],
   "source": [
    "topic_senti_df[\"pred_nltk\"][topic_senti_df[\"topic\"]==\"topic_0\"].value_counts()"
   ]
  },
  {
   "cell_type": "code",
   "execution_count": 130,
   "metadata": {},
   "outputs": [
    {
     "data": {
      "text/plain": [
       "positive    227\n",
       "neutural    211\n",
       "negative     31\n",
       "Name: pred_nltk, dtype: int64"
      ]
     },
     "execution_count": 130,
     "metadata": {},
     "output_type": "execute_result"
    }
   ],
   "source": [
    "topic_senti_df[\"pred_nltk\"][topic_senti_df[\"topic\"]==\"topic_1\"].value_counts()"
   ]
  },
  {
   "cell_type": "code",
   "execution_count": 131,
   "metadata": {},
   "outputs": [
    {
     "data": {
      "text/plain": [
       "positive    190\n",
       "neutural    154\n",
       "negative     15\n",
       "Name: pred_nltk, dtype: int64"
      ]
     },
     "execution_count": 131,
     "metadata": {},
     "output_type": "execute_result"
    }
   ],
   "source": [
    "topic_senti_df[\"pred_nltk\"][topic_senti_df[\"topic\"]==\"topic_2\"].value_counts()"
   ]
  },
  {
   "cell_type": "code",
   "execution_count": 132,
   "metadata": {},
   "outputs": [
    {
     "data": {
      "text/html": [
       "<div>\n",
       "<style scoped>\n",
       "    .dataframe tbody tr th:only-of-type {\n",
       "        vertical-align: middle;\n",
       "    }\n",
       "\n",
       "    .dataframe tbody tr th {\n",
       "        vertical-align: top;\n",
       "    }\n",
       "\n",
       "    .dataframe thead th {\n",
       "        text-align: right;\n",
       "    }\n",
       "</style>\n",
       "<table border=\"1\" class=\"dataframe\">\n",
       "  <thead>\n",
       "    <tr style=\"text-align: right;\">\n",
       "      <th></th>\n",
       "      <th>topic_0</th>\n",
       "      <th>topic_1</th>\n",
       "      <th>topic_2</th>\n",
       "      <th>Id</th>\n",
       "      <th>clean_email</th>\n",
       "      <th>raw_email</th>\n",
       "      <th>scores_nltk</th>\n",
       "      <th>pred_nltk</th>\n",
       "      <th>scores_TextBlob</th>\n",
       "      <th>pred_TextBlob</th>\n",
       "      <th>same</th>\n",
       "      <th>topic</th>\n",
       "    </tr>\n",
       "  </thead>\n",
       "  <tbody>\n",
       "    <tr>\n",
       "      <th>1</th>\n",
       "      <td>0.833377</td>\n",
       "      <td>0.108970</td>\n",
       "      <td>0.057653</td>\n",
       "      <td>6</td>\n",
       "      <td>Pis print Wednesday September PM Fw Meet The R...</td>\n",
       "      <td>Pis print. -•-...-^ H &lt; hrod17@clintonernailco...</td>\n",
       "      <td>-0.9531</td>\n",
       "      <td>negative</td>\n",
       "      <td>-0.098016</td>\n",
       "      <td>negative</td>\n",
       "      <td>1</td>\n",
       "      <td>topic_0</td>\n",
       "    </tr>\n",
       "    <tr>\n",
       "      <th>5</th>\n",
       "      <td>0.143347</td>\n",
       "      <td>0.713680</td>\n",
       "      <td>0.142973</td>\n",
       "      <td>23</td>\n",
       "      <td>Pis print</td>\n",
       "      <td>Pis print.</td>\n",
       "      <td>0.0000</td>\n",
       "      <td>neutural</td>\n",
       "      <td>0.000000</td>\n",
       "      <td>neutural</td>\n",
       "      <td>1</td>\n",
       "      <td>topic_1</td>\n",
       "    </tr>\n",
       "    <tr>\n",
       "      <th>7</th>\n",
       "      <td>0.291357</td>\n",
       "      <td>0.632308</td>\n",
       "      <td>0.076336</td>\n",
       "      <td>34</td>\n",
       "      <td>Pis print From Sullivan Jacob mailto Sent Thur...</td>\n",
       "      <td>Pis print. From Sullivan, Jacob 3 [mailto:Sull...</td>\n",
       "      <td>0.3680</td>\n",
       "      <td>positive</td>\n",
       "      <td>0.083333</td>\n",
       "      <td>positive</td>\n",
       "      <td>1</td>\n",
       "      <td>topic_1</td>\n",
       "    </tr>\n",
       "    <tr>\n",
       "      <th>8</th>\n",
       "      <td>0.146135</td>\n",
       "      <td>0.712593</td>\n",
       "      <td>0.141272</td>\n",
       "      <td>44</td>\n",
       "      <td>Both Gates and said the same on the Sunday shows</td>\n",
       "      <td>Both Gates and I said the same on the Sunday s...</td>\n",
       "      <td>0.0000</td>\n",
       "      <td>neutural</td>\n",
       "      <td>0.000000</td>\n",
       "      <td>neutural</td>\n",
       "      <td>1</td>\n",
       "      <td>topic_1</td>\n",
       "    </tr>\n",
       "    <tr>\n",
       "      <th>10</th>\n",
       "      <td>0.333333</td>\n",
       "      <td>0.333333</td>\n",
       "      <td>0.333333</td>\n",
       "      <td>49</td>\n",
       "      <td></td>\n",
       "      <td>B5</td>\n",
       "      <td>0.0000</td>\n",
       "      <td>neutural</td>\n",
       "      <td>0.000000</td>\n",
       "      <td>neutural</td>\n",
       "      <td>1</td>\n",
       "      <td>topic_0</td>\n",
       "    </tr>\n",
       "    <tr>\n",
       "      <th>...</th>\n",
       "      <td>...</td>\n",
       "      <td>...</td>\n",
       "      <td>...</td>\n",
       "      <td>...</td>\n",
       "      <td>...</td>\n",
       "      <td>...</td>\n",
       "      <td>...</td>\n",
       "      <td>...</td>\n",
       "      <td>...</td>\n",
       "      <td>...</td>\n",
       "      <td>...</td>\n",
       "      <td>...</td>\n",
       "    </tr>\n",
       "    <tr>\n",
       "      <th>1686</th>\n",
       "      <td>0.096165</td>\n",
       "      <td>0.088086</td>\n",
       "      <td>0.815749</td>\n",
       "      <td>7819</td>\n",
       "      <td>Very interesting Thanks Speaking of Australia ...</td>\n",
       "      <td>Very interesting. Thanks. Speaking of Australi...</td>\n",
       "      <td>0.8004</td>\n",
       "      <td>positive</td>\n",
       "      <td>0.181250</td>\n",
       "      <td>positive</td>\n",
       "      <td>1</td>\n",
       "      <td>topic_2</td>\n",
       "    </tr>\n",
       "    <tr>\n",
       "      <th>1687</th>\n",
       "      <td>0.711770</td>\n",
       "      <td>0.196705</td>\n",
       "      <td>0.091525</td>\n",
       "      <td>7820</td>\n",
       "      <td>PIs add the following Paul Charron about Haiti...</td>\n",
       "      <td>PIs add the following: Paul Charron about Hait...</td>\n",
       "      <td>0.4404</td>\n",
       "      <td>positive</td>\n",
       "      <td>0.100000</td>\n",
       "      <td>positive</td>\n",
       "      <td>1</td>\n",
       "      <td>topic_0</td>\n",
       "    </tr>\n",
       "    <tr>\n",
       "      <th>1691</th>\n",
       "      <td>0.107271</td>\n",
       "      <td>0.107962</td>\n",
       "      <td>0.784767</td>\n",
       "      <td>7824</td>\n",
       "      <td>Lets do Tues evening Do you know when can see ...</td>\n",
       "      <td>B6 Let's do Tues evening. Do you know when I c...</td>\n",
       "      <td>0.0000</td>\n",
       "      <td>neutural</td>\n",
       "      <td>0.000000</td>\n",
       "      <td>neutural</td>\n",
       "      <td>1</td>\n",
       "      <td>topic_2</td>\n",
       "    </tr>\n",
       "    <tr>\n",
       "      <th>1692</th>\n",
       "      <td>0.333333</td>\n",
       "      <td>0.333333</td>\n",
       "      <td>0.333333</td>\n",
       "      <td>7826</td>\n",
       "      <td>Could we move to</td>\n",
       "      <td>Could we move to 8:30?</td>\n",
       "      <td>0.0000</td>\n",
       "      <td>neutural</td>\n",
       "      <td>0.000000</td>\n",
       "      <td>neutural</td>\n",
       "      <td>1</td>\n",
       "      <td>topic_0</td>\n",
       "    </tr>\n",
       "    <tr>\n",
       "      <th>1693</th>\n",
       "      <td>0.100767</td>\n",
       "      <td>0.791817</td>\n",
       "      <td>0.107416</td>\n",
       "      <td>7827</td>\n",
       "      <td>Did you andor PIR talk to him today Do need to...</td>\n",
       "      <td>Did you and/or PIR talk to him today? Do I nee...</td>\n",
       "      <td>0.0000</td>\n",
       "      <td>neutural</td>\n",
       "      <td>0.000000</td>\n",
       "      <td>neutural</td>\n",
       "      <td>1</td>\n",
       "      <td>topic_1</td>\n",
       "    </tr>\n",
       "  </tbody>\n",
       "</table>\n",
       "<p>1096 rows × 12 columns</p>\n",
       "</div>"
      ],
      "text/plain": [
       "       topic_0   topic_1   topic_2    Id  \\\n",
       "1     0.833377  0.108970  0.057653     6   \n",
       "5     0.143347  0.713680  0.142973    23   \n",
       "7     0.291357  0.632308  0.076336    34   \n",
       "8     0.146135  0.712593  0.141272    44   \n",
       "10    0.333333  0.333333  0.333333    49   \n",
       "...        ...       ...       ...   ...   \n",
       "1686  0.096165  0.088086  0.815749  7819   \n",
       "1687  0.711770  0.196705  0.091525  7820   \n",
       "1691  0.107271  0.107962  0.784767  7824   \n",
       "1692  0.333333  0.333333  0.333333  7826   \n",
       "1693  0.100767  0.791817  0.107416  7827   \n",
       "\n",
       "                                            clean_email  \\\n",
       "1     Pis print Wednesday September PM Fw Meet The R...   \n",
       "5                                             Pis print   \n",
       "7     Pis print From Sullivan Jacob mailto Sent Thur...   \n",
       "8      Both Gates and said the same on the Sunday shows   \n",
       "10                                                        \n",
       "...                                                 ...   \n",
       "1686  Very interesting Thanks Speaking of Australia ...   \n",
       "1687  PIs add the following Paul Charron about Haiti...   \n",
       "1691  Lets do Tues evening Do you know when can see ...   \n",
       "1692                                   Could we move to   \n",
       "1693  Did you andor PIR talk to him today Do need to...   \n",
       "\n",
       "                                              raw_email  scores_nltk  \\\n",
       "1     Pis print. -•-...-^ H < hrod17@clintonernailco...      -0.9531   \n",
       "5                                            Pis print.       0.0000   \n",
       "7     Pis print. From Sullivan, Jacob 3 [mailto:Sull...       0.3680   \n",
       "8     Both Gates and I said the same on the Sunday s...       0.0000   \n",
       "10                                                   B5       0.0000   \n",
       "...                                                 ...          ...   \n",
       "1686  Very interesting. Thanks. Speaking of Australi...       0.8004   \n",
       "1687  PIs add the following: Paul Charron about Hait...       0.4404   \n",
       "1691  B6 Let's do Tues evening. Do you know when I c...       0.0000   \n",
       "1692                             Could we move to 8:30?       0.0000   \n",
       "1693  Did you and/or PIR talk to him today? Do I nee...       0.0000   \n",
       "\n",
       "     pred_nltk  scores_TextBlob pred_TextBlob  same    topic  \n",
       "1     negative        -0.098016      negative     1  topic_0  \n",
       "5     neutural         0.000000      neutural     1  topic_1  \n",
       "7     positive         0.083333      positive     1  topic_1  \n",
       "8     neutural         0.000000      neutural     1  topic_1  \n",
       "10    neutural         0.000000      neutural     1  topic_0  \n",
       "...        ...              ...           ...   ...      ...  \n",
       "1686  positive         0.181250      positive     1  topic_2  \n",
       "1687  positive         0.100000      positive     1  topic_0  \n",
       "1691  neutural         0.000000      neutural     1  topic_2  \n",
       "1692  neutural         0.000000      neutural     1  topic_0  \n",
       "1693  neutural         0.000000      neutural     1  topic_1  \n",
       "\n",
       "[1096 rows x 12 columns]"
      ]
     },
     "execution_count": 132,
     "metadata": {},
     "output_type": "execute_result"
    }
   ],
   "source": [
    "hillary_email = topic_senti_df.copy()"
   ]
  },
  {
   "cell_type": "code",
   "execution_count": 134,
   "metadata": {},
   "outputs": [
    {
     "data": {
      "text/html": [
       "<div>\n",
       "<style scoped>\n",
       "    .dataframe tbody tr th:only-of-type {\n",
       "        vertical-align: middle;\n",
       "    }\n",
       "\n",
       "    .dataframe tbody tr th {\n",
       "        vertical-align: top;\n",
       "    }\n",
       "\n",
       "    .dataframe thead th {\n",
       "        text-align: right;\n",
       "    }\n",
       "</style>\n",
       "<table border=\"1\" class=\"dataframe\">\n",
       "  <thead>\n",
       "    <tr style=\"text-align: right;\">\n",
       "      <th></th>\n",
       "      <th>topic_0</th>\n",
       "      <th>topic_1</th>\n",
       "      <th>topic_2</th>\n",
       "      <th>Id</th>\n",
       "      <th>clean_email</th>\n",
       "      <th>raw_email</th>\n",
       "      <th>scores_nltk</th>\n",
       "      <th>pred_nltk</th>\n",
       "      <th>scores_TextBlob</th>\n",
       "      <th>pred_TextBlob</th>\n",
       "      <th>same</th>\n",
       "      <th>topic</th>\n",
       "    </tr>\n",
       "  </thead>\n",
       "  <tbody>\n",
       "    <tr>\n",
       "      <th>1</th>\n",
       "      <td>0.833377</td>\n",
       "      <td>0.108970</td>\n",
       "      <td>0.057653</td>\n",
       "      <td>6</td>\n",
       "      <td>Pis print Wednesday September PM Fw Meet The R...</td>\n",
       "      <td>Pis print. -•-...-^ H &lt; hrod17@clintonernailco...</td>\n",
       "      <td>-0.9531</td>\n",
       "      <td>negative</td>\n",
       "      <td>-0.098016</td>\n",
       "      <td>negative</td>\n",
       "      <td>1</td>\n",
       "      <td>topic_0</td>\n",
       "    </tr>\n",
       "    <tr>\n",
       "      <th>5</th>\n",
       "      <td>0.143347</td>\n",
       "      <td>0.713680</td>\n",
       "      <td>0.142973</td>\n",
       "      <td>23</td>\n",
       "      <td>Pis print</td>\n",
       "      <td>Pis print.</td>\n",
       "      <td>0.0000</td>\n",
       "      <td>neutural</td>\n",
       "      <td>0.000000</td>\n",
       "      <td>neutural</td>\n",
       "      <td>1</td>\n",
       "      <td>topic_1</td>\n",
       "    </tr>\n",
       "    <tr>\n",
       "      <th>7</th>\n",
       "      <td>0.291357</td>\n",
       "      <td>0.632308</td>\n",
       "      <td>0.076336</td>\n",
       "      <td>34</td>\n",
       "      <td>Pis print From Sullivan Jacob mailto Sent Thur...</td>\n",
       "      <td>Pis print. From Sullivan, Jacob 3 [mailto:Sull...</td>\n",
       "      <td>0.3680</td>\n",
       "      <td>positive</td>\n",
       "      <td>0.083333</td>\n",
       "      <td>positive</td>\n",
       "      <td>1</td>\n",
       "      <td>topic_1</td>\n",
       "    </tr>\n",
       "    <tr>\n",
       "      <th>8</th>\n",
       "      <td>0.146135</td>\n",
       "      <td>0.712593</td>\n",
       "      <td>0.141272</td>\n",
       "      <td>44</td>\n",
       "      <td>Both Gates and said the same on the Sunday shows</td>\n",
       "      <td>Both Gates and I said the same on the Sunday s...</td>\n",
       "      <td>0.0000</td>\n",
       "      <td>neutural</td>\n",
       "      <td>0.000000</td>\n",
       "      <td>neutural</td>\n",
       "      <td>1</td>\n",
       "      <td>topic_1</td>\n",
       "    </tr>\n",
       "    <tr>\n",
       "      <th>10</th>\n",
       "      <td>0.333333</td>\n",
       "      <td>0.333333</td>\n",
       "      <td>0.333333</td>\n",
       "      <td>49</td>\n",
       "      <td></td>\n",
       "      <td>B5</td>\n",
       "      <td>0.0000</td>\n",
       "      <td>neutural</td>\n",
       "      <td>0.000000</td>\n",
       "      <td>neutural</td>\n",
       "      <td>1</td>\n",
       "      <td>topic_0</td>\n",
       "    </tr>\n",
       "    <tr>\n",
       "      <th>...</th>\n",
       "      <td>...</td>\n",
       "      <td>...</td>\n",
       "      <td>...</td>\n",
       "      <td>...</td>\n",
       "      <td>...</td>\n",
       "      <td>...</td>\n",
       "      <td>...</td>\n",
       "      <td>...</td>\n",
       "      <td>...</td>\n",
       "      <td>...</td>\n",
       "      <td>...</td>\n",
       "      <td>...</td>\n",
       "    </tr>\n",
       "    <tr>\n",
       "      <th>1686</th>\n",
       "      <td>0.096165</td>\n",
       "      <td>0.088086</td>\n",
       "      <td>0.815749</td>\n",
       "      <td>7819</td>\n",
       "      <td>Very interesting Thanks Speaking of Australia ...</td>\n",
       "      <td>Very interesting. Thanks. Speaking of Australi...</td>\n",
       "      <td>0.8004</td>\n",
       "      <td>positive</td>\n",
       "      <td>0.181250</td>\n",
       "      <td>positive</td>\n",
       "      <td>1</td>\n",
       "      <td>topic_2</td>\n",
       "    </tr>\n",
       "    <tr>\n",
       "      <th>1687</th>\n",
       "      <td>0.711770</td>\n",
       "      <td>0.196705</td>\n",
       "      <td>0.091525</td>\n",
       "      <td>7820</td>\n",
       "      <td>PIs add the following Paul Charron about Haiti...</td>\n",
       "      <td>PIs add the following: Paul Charron about Hait...</td>\n",
       "      <td>0.4404</td>\n",
       "      <td>positive</td>\n",
       "      <td>0.100000</td>\n",
       "      <td>positive</td>\n",
       "      <td>1</td>\n",
       "      <td>topic_0</td>\n",
       "    </tr>\n",
       "    <tr>\n",
       "      <th>1691</th>\n",
       "      <td>0.107271</td>\n",
       "      <td>0.107962</td>\n",
       "      <td>0.784767</td>\n",
       "      <td>7824</td>\n",
       "      <td>Lets do Tues evening Do you know when can see ...</td>\n",
       "      <td>B6 Let's do Tues evening. Do you know when I c...</td>\n",
       "      <td>0.0000</td>\n",
       "      <td>neutural</td>\n",
       "      <td>0.000000</td>\n",
       "      <td>neutural</td>\n",
       "      <td>1</td>\n",
       "      <td>topic_2</td>\n",
       "    </tr>\n",
       "    <tr>\n",
       "      <th>1692</th>\n",
       "      <td>0.333333</td>\n",
       "      <td>0.333333</td>\n",
       "      <td>0.333333</td>\n",
       "      <td>7826</td>\n",
       "      <td>Could we move to</td>\n",
       "      <td>Could we move to 8:30?</td>\n",
       "      <td>0.0000</td>\n",
       "      <td>neutural</td>\n",
       "      <td>0.000000</td>\n",
       "      <td>neutural</td>\n",
       "      <td>1</td>\n",
       "      <td>topic_0</td>\n",
       "    </tr>\n",
       "    <tr>\n",
       "      <th>1693</th>\n",
       "      <td>0.100767</td>\n",
       "      <td>0.791817</td>\n",
       "      <td>0.107416</td>\n",
       "      <td>7827</td>\n",
       "      <td>Did you andor PIR talk to him today Do need to...</td>\n",
       "      <td>Did you and/or PIR talk to him today? Do I nee...</td>\n",
       "      <td>0.0000</td>\n",
       "      <td>neutural</td>\n",
       "      <td>0.000000</td>\n",
       "      <td>neutural</td>\n",
       "      <td>1</td>\n",
       "      <td>topic_1</td>\n",
       "    </tr>\n",
       "  </tbody>\n",
       "</table>\n",
       "<p>1096 rows × 12 columns</p>\n",
       "</div>"
      ],
      "text/plain": [
       "       topic_0   topic_1   topic_2    Id  \\\n",
       "1     0.833377  0.108970  0.057653     6   \n",
       "5     0.143347  0.713680  0.142973    23   \n",
       "7     0.291357  0.632308  0.076336    34   \n",
       "8     0.146135  0.712593  0.141272    44   \n",
       "10    0.333333  0.333333  0.333333    49   \n",
       "...        ...       ...       ...   ...   \n",
       "1686  0.096165  0.088086  0.815749  7819   \n",
       "1687  0.711770  0.196705  0.091525  7820   \n",
       "1691  0.107271  0.107962  0.784767  7824   \n",
       "1692  0.333333  0.333333  0.333333  7826   \n",
       "1693  0.100767  0.791817  0.107416  7827   \n",
       "\n",
       "                                            clean_email  \\\n",
       "1     Pis print Wednesday September PM Fw Meet The R...   \n",
       "5                                             Pis print   \n",
       "7     Pis print From Sullivan Jacob mailto Sent Thur...   \n",
       "8      Both Gates and said the same on the Sunday shows   \n",
       "10                                                        \n",
       "...                                                 ...   \n",
       "1686  Very interesting Thanks Speaking of Australia ...   \n",
       "1687  PIs add the following Paul Charron about Haiti...   \n",
       "1691  Lets do Tues evening Do you know when can see ...   \n",
       "1692                                   Could we move to   \n",
       "1693  Did you andor PIR talk to him today Do need to...   \n",
       "\n",
       "                                              raw_email  scores_nltk  \\\n",
       "1     Pis print. -•-...-^ H < hrod17@clintonernailco...      -0.9531   \n",
       "5                                            Pis print.       0.0000   \n",
       "7     Pis print. From Sullivan, Jacob 3 [mailto:Sull...       0.3680   \n",
       "8     Both Gates and I said the same on the Sunday s...       0.0000   \n",
       "10                                                   B5       0.0000   \n",
       "...                                                 ...          ...   \n",
       "1686  Very interesting. Thanks. Speaking of Australi...       0.8004   \n",
       "1687  PIs add the following: Paul Charron about Hait...       0.4404   \n",
       "1691  B6 Let's do Tues evening. Do you know when I c...       0.0000   \n",
       "1692                             Could we move to 8:30?       0.0000   \n",
       "1693  Did you and/or PIR talk to him today? Do I nee...       0.0000   \n",
       "\n",
       "     pred_nltk  scores_TextBlob pred_TextBlob  same    topic  \n",
       "1     negative        -0.098016      negative     1  topic_0  \n",
       "5     neutural         0.000000      neutural     1  topic_1  \n",
       "7     positive         0.083333      positive     1  topic_1  \n",
       "8     neutural         0.000000      neutural     1  topic_1  \n",
       "10    neutural         0.000000      neutural     1  topic_0  \n",
       "...        ...              ...           ...   ...      ...  \n",
       "1686  positive         0.181250      positive     1  topic_2  \n",
       "1687  positive         0.100000      positive     1  topic_0  \n",
       "1691  neutural         0.000000      neutural     1  topic_2  \n",
       "1692  neutural         0.000000      neutural     1  topic_0  \n",
       "1693  neutural         0.000000      neutural     1  topic_1  \n",
       "\n",
       "[1096 rows x 12 columns]"
      ]
     },
     "execution_count": 134,
     "metadata": {},
     "output_type": "execute_result"
    }
   ],
   "source": [
    "topic_senti_df"
   ]
  },
  {
   "cell_type": "code",
   "execution_count": null,
   "metadata": {},
   "outputs": [],
   "source": []
  }
 ],
 "metadata": {
  "kernelspec": {
   "display_name": "Python [conda env:metis] *",
   "language": "python",
   "name": "conda-env-metis-py"
  },
  "language_info": {
   "codemirror_mode": {
    "name": "ipython",
    "version": 3
   },
   "file_extension": ".py",
   "mimetype": "text/x-python",
   "name": "python",
   "nbconvert_exporter": "python",
   "pygments_lexer": "ipython3",
   "version": "3.8.5"
  }
 },
 "nbformat": 4,
 "nbformat_minor": 4
}
